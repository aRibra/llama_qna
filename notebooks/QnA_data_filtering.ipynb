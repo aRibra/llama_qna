{
 "cells": [
  {
   "cell_type": "code",
   "execution_count": 2,
   "id": "da213236-c928-4e7f-acf5-23420802e5ab",
   "metadata": {},
   "outputs": [],
   "source": [
    "import numpy as np\n",
    "import pandas as pd"
   ]
  },
  {
   "cell_type": "code",
   "execution_count": null,
   "id": "d27c0336-02d5-48b6-97ee-5980f35052fd",
   "metadata": {},
   "outputs": [],
   "source": []
  },
  {
   "cell_type": "markdown",
   "id": "358ba0e2-d5eb-4b76-b35e-57808f99c962",
   "metadata": {
    "id": "kXIrPZWrT1A3"
   },
   "source": [
    "# Load dataset from local"
   ]
  },
  {
   "cell_type": "code",
   "execution_count": 3,
   "id": "ec7f5033-bcaa-44b2-965e-f998f0b71c06",
   "metadata": {
    "executionInfo": {
     "elapsed": 596,
     "status": "ok",
     "timestamp": 1702040448737,
     "user": {
      "displayName": "shyam kumar",
      "userId": "03837868203400170640"
     },
     "user_tz": -330
    },
    "id": "W5chhF0MT748"
   },
   "outputs": [],
   "source": [
    "qna_data = \"mk_physics_qna_train.csv\"\n",
    "df = pd.read_csv(qna_data)"
   ]
  },
  {
   "cell_type": "code",
   "execution_count": 4,
   "id": "048f3c60-6c1d-4abe-9435-50a7ec32938e",
   "metadata": {},
   "outputs": [
    {
     "data": {
      "text/html": [
       "<div>\n",
       "<style scoped>\n",
       "    .dataframe tbody tr th:only-of-type {\n",
       "        vertical-align: middle;\n",
       "    }\n",
       "\n",
       "    .dataframe tbody tr th {\n",
       "        vertical-align: top;\n",
       "    }\n",
       "\n",
       "    .dataframe thead th {\n",
       "        text-align: right;\n",
       "    }\n",
       "</style>\n",
       "<table border=\"1\" class=\"dataframe\">\n",
       "  <thead>\n",
       "    <tr style=\"text-align: right;\">\n",
       "      <th></th>\n",
       "      <th>Question</th>\n",
       "      <th>Answer</th>\n",
       "    </tr>\n",
       "  </thead>\n",
       "  <tbody>\n",
       "    <tr>\n",
       "      <th>0</th>\n",
       "      <td>Question 1: What is the title of the book bein...</td>\n",
       "      <td>Answer 1: The title of the book is \"Mind over ...</td>\n",
       "    </tr>\n",
       "    <tr>\n",
       "      <th>1</th>\n",
       "      <td>Question 2: What are some of the future techno...</td>\n",
       "      <td>Answer 2: Some of the future technologies ment...</td>\n",
       "    </tr>\n",
       "    <tr>\n",
       "      <th>2</th>\n",
       "      <td>Question 3: Who did the author thank for their...</td>\n",
       "      <td>Answer 3: The author thanked their editors Rog...</td>\n",
       "    </tr>\n",
       "    <tr>\n",
       "      <th>3</th>\n",
       "      <td>Question 4: What is the overall theme of the b...</td>\n",
       "      <td>Answer 4: The overall theme of the book is the...</td>\n",
       "    </tr>\n",
       "    <tr>\n",
       "      <th>4</th>\n",
       "      <td>Question: Who did the author encourage to take...</td>\n",
       "      <td>Answer: The author encouraged \"more than three...</td>\n",
       "    </tr>\n",
       "    <tr>\n",
       "      <th>...</th>\n",
       "      <td>...</td>\n",
       "      <td>...</td>\n",
       "    </tr>\n",
       "    <tr>\n",
       "      <th>4997</th>\n",
       "      <td>3. What is the fate of humans in the series of...</td>\n",
       "      <td>Answer: According to the text, humans are redu...</td>\n",
       "    </tr>\n",
       "    <tr>\n",
       "      <th>4998</th>\n",
       "      <td>1. What drove the expansion of the human brain?</td>\n",
       "      <td>A. Men's ability to strategize and lead tribes...</td>\n",
       "    </tr>\n",
       "    <tr>\n",
       "      <th>4999</th>\n",
       "      <td>2. Why did females choose males with large bra...</td>\n",
       "      <td>A. To outwit other males and become leaders of...</td>\n",
       "    </tr>\n",
       "    <tr>\n",
       "      <th>5000</th>\n",
       "      <td>Q: What drove the expansion of the human brain?</td>\n",
       "      <td>A: B. Women's choice of men with large brains.</td>\n",
       "    </tr>\n",
       "    <tr>\n",
       "      <th>5001</th>\n",
       "      <td>Q: Why did females choose males with large bra...</td>\n",
       "      <td>A: B. To outwit other males and become leaders...</td>\n",
       "    </tr>\n",
       "  </tbody>\n",
       "</table>\n",
       "<p>5002 rows × 2 columns</p>\n",
       "</div>"
      ],
      "text/plain": [
       "                                               Question  \\\n",
       "0     Question 1: What is the title of the book bein...   \n",
       "1     Question 2: What are some of the future techno...   \n",
       "2     Question 3: Who did the author thank for their...   \n",
       "3     Question 4: What is the overall theme of the b...   \n",
       "4     Question: Who did the author encourage to take...   \n",
       "...                                                 ...   \n",
       "4997  3. What is the fate of humans in the series of...   \n",
       "4998    1. What drove the expansion of the human brain?   \n",
       "4999  2. Why did females choose males with large bra...   \n",
       "5000    Q: What drove the expansion of the human brain?   \n",
       "5001  Q: Why did females choose males with large bra...   \n",
       "\n",
       "                                                 Answer  \n",
       "0     Answer 1: The title of the book is \"Mind over ...  \n",
       "1     Answer 2: Some of the future technologies ment...  \n",
       "2     Answer 3: The author thanked their editors Rog...  \n",
       "3     Answer 4: The overall theme of the book is the...  \n",
       "4     Answer: The author encouraged \"more than three...  \n",
       "...                                                 ...  \n",
       "4997  Answer: According to the text, humans are redu...  \n",
       "4998  A. Men's ability to strategize and lead tribes...  \n",
       "4999  A. To outwit other males and become leaders of...  \n",
       "5000     A: B. Women's choice of men with large brains.  \n",
       "5001  A: B. To outwit other males and become leaders...  \n",
       "\n",
       "[5002 rows x 2 columns]"
      ]
     },
     "execution_count": 4,
     "metadata": {},
     "output_type": "execute_result"
    }
   ],
   "source": [
    "df"
   ]
  },
  {
   "cell_type": "markdown",
   "id": "2d7347f9-e1b2-42e9-8fe1-d5c11994da06",
   "metadata": {},
   "source": [
    "### check for any empty questions or answers"
   ]
  },
  {
   "cell_type": "code",
   "execution_count": 4,
   "id": "18cac61e-95b4-4eaa-9c36-c094b4bea633",
   "metadata": {},
   "outputs": [
    {
     "data": {
      "text/plain": [
       "Series([], Name: Answer, dtype: object)"
      ]
     },
     "execution_count": 4,
     "metadata": {},
     "output_type": "execute_result"
    }
   ],
   "source": [
    "df['Answer'][df['Answer'] == \"\"]"
   ]
  },
  {
   "cell_type": "code",
   "execution_count": 5,
   "id": "45dd3a7b-8aa0-4c9a-8ee3-eb479165de66",
   "metadata": {},
   "outputs": [
    {
     "data": {
      "text/plain": [
       "Series([], Name: Question, dtype: object)"
      ]
     },
     "execution_count": 5,
     "metadata": {},
     "output_type": "execute_result"
    }
   ],
   "source": [
    "df['Question'][df['Question'] == \"\"]"
   ]
  },
  {
   "cell_type": "code",
   "execution_count": 6,
   "id": "f4ef7470-a129-4413-ac0b-931291d32e1a",
   "metadata": {},
   "outputs": [
    {
     "data": {
      "text/plain": [
       "array(['1.', '10', '2.', '3.', '4.', '5.', '6.', '7.', '8.', '9.', '?',\n",
       "       'A ', 'An', 'Ne', 'Q ', 'Q.', 'Q1', 'Q2', 'Q3', 'Q4', 'Q5', 'Q:',\n",
       "       'QU', 'Qu', 'le', 'pe', 'te', 'to', 'wr'], dtype='<U2')"
      ]
     },
     "execution_count": 6,
     "metadata": {},
     "output_type": "execute_result"
    }
   ],
   "source": [
    "np.unique([q[:2] for q in df['Question'].values])"
   ]
  },
  {
   "cell_type": "code",
   "execution_count": 7,
   "id": "b318b1a3-9439-469c-89a6-5381f35f16de",
   "metadata": {},
   "outputs": [],
   "source": [
    "us = np.array(['1.', '10', '2.', '3.', '4.', '5.', '6.', '7.', '8.', '9.',\n",
    "        'Q ', 'Q.', 'Q1', 'Q2', 'Q3', 'Q4', 'Q5', 'Q:',\n",
    "       'QU', 'Qu'])"
   ]
  },
  {
   "cell_type": "code",
   "execution_count": 8,
   "id": "100cfeeb-f65d-48db-8d59-c47075090348",
   "metadata": {},
   "outputs": [
    {
     "data": {
      "text/plain": [
       "array(['1.', '10', '2.', '3.', '4.', '5.', '6.', '7.', '8.', '9.', 'Q ',\n",
       "       'Q.', 'Q1', 'Q2', 'Q3', 'Q4', 'Q5', 'Q:', 'QU', 'Qu'], dtype='<U2')"
      ]
     },
     "execution_count": 8,
     "metadata": {},
     "output_type": "execute_result"
    }
   ],
   "source": [
    "us"
   ]
  },
  {
   "cell_type": "code",
   "execution_count": 9,
   "id": "8fdfb34a-44ce-4bed-956f-25be740111df",
   "metadata": {},
   "outputs": [
    {
     "data": {
      "text/plain": [
       "(17,\n",
       " [(1007, 'text?'),\n",
       "  (1253, 'wrote Materialism publication?'),\n",
       "  (1844, 'Answer  voice?'),\n",
       "  (1982,\n",
       "   'Answer  in Ramanwhere we least expected places where we least expectably?'),\n",
       "  (2841, '?'),\n",
       "  (3150, 'ley?'),\n",
       "  (3207,\n",
       "   'Answer: To his disappointment, he found that the sum of the interior angles was exactly 180 degrees (plus or minus 15 minutes). This indicates that Gauss was not able to conclusively prove Euclid wrong with his current measurements.  4. How did mathematicians like Lobachevski and Bolyai contribute to non-Euclidean mathematics?'),\n",
       "  (3219,\n",
       "   'Answer: Question 1: What is the title of the paper written by Paul Ehrenfest in 1917?'),\n",
       "  (3287,\n",
       "   'Answer: \"perfect symmeymmetrical symmetries to Beginningtime\\'perfectSymmetasymmet?'),\n",
       "  (3293,\n",
       "   \"A the beginning of the origin of the origin of the origin of the origin of the origin of the origin of the origin of the origin of the origin of the origin of the universe'the existence of the beginnocosmos the probability of the probability of the probability of the probability of the probability of the probability of the originsight?\"),\n",
       "  (3783,\n",
       "   'Answer 2: Physicists calculated that if they could ignite a big bang, people immediately started to wonder what would happen if you put lots of energy in one space in the lab-shot lots of cannons together. Could you concentrate enough energy to set off a mini big bang?'),\n",
       "  (3825,\n",
       "   'Answer  in the near the laws of the laws of the laws of the universe?'),\n",
       "  (4055, 'Answer  at the National Ignition?'),\n",
       "  (4106, 'perspective?'),\n",
       "  (4294, 'to the article?'),\n",
       "  (4457, 'personality to numbers?'),\n",
       "  (4705,\n",
       "   'Next question: Why was the computer system HAL 9000 in the movie 2001 an example of a sentient computer capable of conversing easily with humans?')])"
      ]
     },
     "execution_count": 9,
     "metadata": {},
     "output_type": "execute_result"
    }
   ],
   "source": [
    "bad_questions = [(ix, q) for ix, q in enumerate(df['Question'].values) if q[:2] not in us]\n",
    "len(bad_questions), bad_questions"
   ]
  },
  {
   "cell_type": "code",
   "execution_count": 10,
   "id": "17b919ce-6714-473b-9104-d636857cbc63",
   "metadata": {},
   "outputs": [
    {
     "data": {
      "text/plain": [
       "[1007,\n",
       " 1253,\n",
       " 1844,\n",
       " 1982,\n",
       " 2841,\n",
       " 3150,\n",
       " 3207,\n",
       " 3219,\n",
       " 3287,\n",
       " 3293,\n",
       " 3783,\n",
       " 3825,\n",
       " 4055,\n",
       " 4106,\n",
       " 4294,\n",
       " 4457,\n",
       " 4705]"
      ]
     },
     "execution_count": 10,
     "metadata": {},
     "output_type": "execute_result"
    }
   ],
   "source": [
    "bad_questions_ixs = [ix for ix, bq in bad_questions]\n",
    "bad_questions_ixs"
   ]
  },
  {
   "cell_type": "code",
   "execution_count": null,
   "id": "22e7c335-4a3c-4cbd-a80a-98a3f4201266",
   "metadata": {
    "executionInfo": {
     "elapsed": 1067,
     "status": "ok",
     "timestamp": 1702040461051,
     "user": {
      "displayName": "shyam kumar",
      "userId": "03837868203400170640"
     },
     "user_tz": -330
    },
    "id": "jiUIwn-rTTI-"
   },
   "outputs": [],
   "source": []
  },
  {
   "cell_type": "code",
   "execution_count": 11,
   "id": "b7488e59-295e-49be-8fba-d002961d395b",
   "metadata": {},
   "outputs": [
    {
     "data": {
      "text/html": [
       "<div>\n",
       "<style scoped>\n",
       "    .dataframe tbody tr th:only-of-type {\n",
       "        vertical-align: middle;\n",
       "    }\n",
       "\n",
       "    .dataframe tbody tr th {\n",
       "        vertical-align: top;\n",
       "    }\n",
       "\n",
       "    .dataframe thead th {\n",
       "        text-align: right;\n",
       "    }\n",
       "</style>\n",
       "<table border=\"1\" class=\"dataframe\">\n",
       "  <thead>\n",
       "    <tr style=\"text-align: right;\">\n",
       "      <th></th>\n",
       "      <th>Question</th>\n",
       "      <th>Answer</th>\n",
       "    </tr>\n",
       "  </thead>\n",
       "  <tbody>\n",
       "    <tr>\n",
       "      <th>1007</th>\n",
       "      <td>text?</td>\n",
       "      <td>text</td>\n",
       "    </tr>\n",
       "    <tr>\n",
       "      <th>1253</th>\n",
       "      <td>wrote Materialism publication?</td>\n",
       "      <td>s</td>\n",
       "    </tr>\n",
       "    <tr>\n",
       "      <th>1844</th>\n",
       "      <td>Answer  voice?</td>\n",
       "      <td>AnswerAnswerAnswerAnswerAnswerAnswerAnswerAnsw...</td>\n",
       "    </tr>\n",
       "    <tr>\n",
       "      <th>1982</th>\n",
       "      <td>Answer  in Ramanwhere we least expected places...</td>\n",
       "      <td>Answer  in Ram</td>\n",
       "    </tr>\n",
       "    <tr>\n",
       "      <th>2841</th>\n",
       "      <td>?</td>\n",
       "      <td>Answer:</td>\n",
       "    </tr>\n",
       "    <tr>\n",
       "      <th>3150</th>\n",
       "      <td>ley?</td>\n",
       "      <td>ley and what did</td>\n",
       "    </tr>\n",
       "    <tr>\n",
       "      <th>3207</th>\n",
       "      <td>Answer: To his disappointment, he found that t...</td>\n",
       "      <td>Answer: Mathematicians like Nikolaus I. Lobach...</td>\n",
       "    </tr>\n",
       "    <tr>\n",
       "      <th>3219</th>\n",
       "      <td>Answer: Question 1: What is the title of the p...</td>\n",
       "      <td>Answer: The title of the paper written by Paul...</td>\n",
       "    </tr>\n",
       "    <tr>\n",
       "      <th>3287</th>\n",
       "      <td>Answer: \"perfect symmeymmetrical symmetries to...</td>\n",
       "      <td>Answer  the origin of the beginning of the beg...</td>\n",
       "    </tr>\n",
       "    <tr>\n",
       "      <th>3293</th>\n",
       "      <td>A the beginning of the origin of the origin of...</td>\n",
       "      <td>Athe possibility of the probability of the pro...</td>\n",
       "    </tr>\n",
       "    <tr>\n",
       "      <th>3783</th>\n",
       "      <td>Answer 2: Physicists calculated that if they c...</td>\n",
       "      <td>Question Answer Pair</td>\n",
       "    </tr>\n",
       "    <tr>\n",
       "      <th>3825</th>\n",
       "      <td>Answer  in the near the laws of the laws of th...</td>\n",
       "      <td>AnswerAnswerAnswerAnswerAnswerAnswerAnswerAnsw...</td>\n",
       "    </tr>\n",
       "    <tr>\n",
       "      <th>4055</th>\n",
       "      <td>Answer  at the National Ignition?</td>\n",
       "      <td>Answer  at the National Ign</td>\n",
       "    </tr>\n",
       "    <tr>\n",
       "      <th>4106</th>\n",
       "      <td>perspective?</td>\n",
       "      <td>Answer:Answer:Answer:Answer:</td>\n",
       "    </tr>\n",
       "    <tr>\n",
       "      <th>4294</th>\n",
       "      <td>to the article?</td>\n",
       "      <td>to</td>\n",
       "    </tr>\n",
       "    <tr>\n",
       "      <th>4457</th>\n",
       "      <td>personality to numbers?</td>\n",
       "      <td>Answer: According to the passage, reducing som...</td>\n",
       "    </tr>\n",
       "    <tr>\n",
       "      <th>4705</th>\n",
       "      <td>Next question: Why was the computer system HAL...</td>\n",
       "      <td>Answer: The movie 2001 explored the theme of a...</td>\n",
       "    </tr>\n",
       "  </tbody>\n",
       "</table>\n",
       "</div>"
      ],
      "text/plain": [
       "                                               Question  \\\n",
       "1007                                              text?   \n",
       "1253                     wrote Materialism publication?   \n",
       "1844                                     Answer  voice?   \n",
       "1982  Answer  in Ramanwhere we least expected places...   \n",
       "2841                                                  ?   \n",
       "3150                                               ley?   \n",
       "3207  Answer: To his disappointment, he found that t...   \n",
       "3219  Answer: Question 1: What is the title of the p...   \n",
       "3287  Answer: \"perfect symmeymmetrical symmetries to...   \n",
       "3293  A the beginning of the origin of the origin of...   \n",
       "3783  Answer 2: Physicists calculated that if they c...   \n",
       "3825  Answer  in the near the laws of the laws of th...   \n",
       "4055                  Answer  at the National Ignition?   \n",
       "4106                                       perspective?   \n",
       "4294                                    to the article?   \n",
       "4457                            personality to numbers?   \n",
       "4705  Next question: Why was the computer system HAL...   \n",
       "\n",
       "                                                 Answer  \n",
       "1007                                               text  \n",
       "1253                                                  s  \n",
       "1844  AnswerAnswerAnswerAnswerAnswerAnswerAnswerAnsw...  \n",
       "1982                                     Answer  in Ram  \n",
       "2841                                            Answer:  \n",
       "3150                                   ley and what did  \n",
       "3207  Answer: Mathematicians like Nikolaus I. Lobach...  \n",
       "3219  Answer: The title of the paper written by Paul...  \n",
       "3287  Answer  the origin of the beginning of the beg...  \n",
       "3293  Athe possibility of the probability of the pro...  \n",
       "3783                               Question Answer Pair  \n",
       "3825  AnswerAnswerAnswerAnswerAnswerAnswerAnswerAnsw...  \n",
       "4055                        Answer  at the National Ign  \n",
       "4106                       Answer:Answer:Answer:Answer:  \n",
       "4294                                                 to  \n",
       "4457  Answer: According to the passage, reducing som...  \n",
       "4705  Answer: The movie 2001 explored the theme of a...  "
      ]
     },
     "execution_count": 11,
     "metadata": {},
     "output_type": "execute_result"
    }
   ],
   "source": [
    "df.iloc[bad_questions_ixs]"
   ]
  },
  {
   "cell_type": "markdown",
   "id": "c0c69d1c-05f4-4f27-b9e1-e27b261dcb96",
   "metadata": {},
   "source": [
    "### drop rows with bad questions"
   ]
  },
  {
   "cell_type": "code",
   "execution_count": 12,
   "id": "027b722e-abb2-4eb3-9ead-8aacb44a9648",
   "metadata": {},
   "outputs": [],
   "source": [
    "df = df.drop(index=bad_questions_ixs)\n"
   ]
  },
  {
   "cell_type": "code",
   "execution_count": 13,
   "id": "d7f4d77a-0280-4d56-9008-e4633c2307a4",
   "metadata": {},
   "outputs": [
    {
     "data": {
      "text/html": [
       "<div>\n",
       "<style scoped>\n",
       "    .dataframe tbody tr th:only-of-type {\n",
       "        vertical-align: middle;\n",
       "    }\n",
       "\n",
       "    .dataframe tbody tr th {\n",
       "        vertical-align: top;\n",
       "    }\n",
       "\n",
       "    .dataframe thead th {\n",
       "        text-align: right;\n",
       "    }\n",
       "</style>\n",
       "<table border=\"1\" class=\"dataframe\">\n",
       "  <thead>\n",
       "    <tr style=\"text-align: right;\">\n",
       "      <th></th>\n",
       "      <th>Question</th>\n",
       "      <th>Answer</th>\n",
       "    </tr>\n",
       "  </thead>\n",
       "  <tbody>\n",
       "    <tr>\n",
       "      <th>0</th>\n",
       "      <td>Question 1: What is the title of the book bein...</td>\n",
       "      <td>Answer 1: The title of the book is \"Mind over ...</td>\n",
       "    </tr>\n",
       "    <tr>\n",
       "      <th>1</th>\n",
       "      <td>Question 2: What are some of the future techno...</td>\n",
       "      <td>Answer 2: Some of the future technologies ment...</td>\n",
       "    </tr>\n",
       "    <tr>\n",
       "      <th>2</th>\n",
       "      <td>Question 3: Who did the author thank for their...</td>\n",
       "      <td>Answer 3: The author thanked their editors Rog...</td>\n",
       "    </tr>\n",
       "    <tr>\n",
       "      <th>3</th>\n",
       "      <td>Question 4: What is the overall theme of the b...</td>\n",
       "      <td>Answer 4: The overall theme of the book is the...</td>\n",
       "    </tr>\n",
       "    <tr>\n",
       "      <th>4</th>\n",
       "      <td>Question: Who did the author encourage to take...</td>\n",
       "      <td>Answer: The author encouraged \"more than three...</td>\n",
       "    </tr>\n",
       "    <tr>\n",
       "      <th>...</th>\n",
       "      <td>...</td>\n",
       "      <td>...</td>\n",
       "    </tr>\n",
       "    <tr>\n",
       "      <th>4997</th>\n",
       "      <td>3. What is the fate of humans in the series of...</td>\n",
       "      <td>Answer: According to the text, humans are redu...</td>\n",
       "    </tr>\n",
       "    <tr>\n",
       "      <th>4998</th>\n",
       "      <td>1. What drove the expansion of the human brain?</td>\n",
       "      <td>A. Men's ability to strategize and lead tribes...</td>\n",
       "    </tr>\n",
       "    <tr>\n",
       "      <th>4999</th>\n",
       "      <td>2. Why did females choose males with large bra...</td>\n",
       "      <td>A. To outwit other males and become leaders of...</td>\n",
       "    </tr>\n",
       "    <tr>\n",
       "      <th>5000</th>\n",
       "      <td>Q: What drove the expansion of the human brain?</td>\n",
       "      <td>A: B. Women's choice of men with large brains.</td>\n",
       "    </tr>\n",
       "    <tr>\n",
       "      <th>5001</th>\n",
       "      <td>Q: Why did females choose males with large bra...</td>\n",
       "      <td>A: B. To outwit other males and become leaders...</td>\n",
       "    </tr>\n",
       "  </tbody>\n",
       "</table>\n",
       "<p>4985 rows × 2 columns</p>\n",
       "</div>"
      ],
      "text/plain": [
       "                                               Question  \\\n",
       "0     Question 1: What is the title of the book bein...   \n",
       "1     Question 2: What are some of the future techno...   \n",
       "2     Question 3: Who did the author thank for their...   \n",
       "3     Question 4: What is the overall theme of the b...   \n",
       "4     Question: Who did the author encourage to take...   \n",
       "...                                                 ...   \n",
       "4997  3. What is the fate of humans in the series of...   \n",
       "4998    1. What drove the expansion of the human brain?   \n",
       "4999  2. Why did females choose males with large bra...   \n",
       "5000    Q: What drove the expansion of the human brain?   \n",
       "5001  Q: Why did females choose males with large bra...   \n",
       "\n",
       "                                                 Answer  \n",
       "0     Answer 1: The title of the book is \"Mind over ...  \n",
       "1     Answer 2: Some of the future technologies ment...  \n",
       "2     Answer 3: The author thanked their editors Rog...  \n",
       "3     Answer 4: The overall theme of the book is the...  \n",
       "4     Answer: The author encouraged \"more than three...  \n",
       "...                                                 ...  \n",
       "4997  Answer: According to the text, humans are redu...  \n",
       "4998  A. Men's ability to strategize and lead tribes...  \n",
       "4999  A. To outwit other males and become leaders of...  \n",
       "5000     A: B. Women's choice of men with large brains.  \n",
       "5001  A: B. To outwit other males and become leaders...  \n",
       "\n",
       "[4985 rows x 2 columns]"
      ]
     },
     "execution_count": 13,
     "metadata": {},
     "output_type": "execute_result"
    }
   ],
   "source": [
    "df"
   ]
  },
  {
   "cell_type": "markdown",
   "id": "22f9fb79-3d7a-4fd9-ae6d-215a7aa837db",
   "metadata": {},
   "source": [
    "### check for bad answers"
   ]
  },
  {
   "cell_type": "code",
   "execution_count": 14,
   "id": "76c0027b-4075-409e-8931-dc517a5ef9d1",
   "metadata": {},
   "outputs": [
    {
     "data": {
      "text/plain": [
       "array(['(A)', '(An', '(a)', '* A', '1.1', '2. ', '2.1', '3.1', '4. ',\n",
       "       '4.1', '5.1', '6. ', 'A', 'A 1', 'A 2', 'A 3', 'A) ', 'A. ', 'A1.',\n",
       "       'A1:', 'A2.', 'A2:', 'A3.', 'A3:', 'A4.', 'A4:', 'A5.', 'A5:',\n",
       "       'A: ', 'AAA', 'ANS', 'Ans', 'B. ', 'Bra', 'C. ', 'D. ', 'E. ',\n",
       "       'Qus', 'Thi', 'a) ', 'ans', 'b) ', 'cut', 'twi'], dtype='<U3')"
      ]
     },
     "execution_count": 14,
     "metadata": {},
     "output_type": "execute_result"
    }
   ],
   "source": [
    "np.unique([q[:3] for q in df['Answer'].values])"
   ]
  },
  {
   "cell_type": "code",
   "execution_count": 15,
   "id": "113f9724-ad3d-45c3-95d9-f9e89d9b9b5b",
   "metadata": {},
   "outputs": [],
   "source": [
    "ua = np.array([  \n",
    "                'A.', 'A1:', 'A2:', 'A3:', 'A4:', 'A5:', 'A:', 'a)', 'b)'])\n",
    "\n",
    "uua = np.array([\n",
    "    '(Answer)', 'answer :', '* Answer:', 'Answer:', 'ANSWER: ', 'Answer :', 'Answers: ',\n",
    "    'Answer 1:', 'Answer 2:', 'Answer 3:', 'Answer 4:', 'Answer 5:', 'Answer 6:', 'Answer 7:', 'Answer 14: ', 'Answer 20: ',\n",
    "    'ANSWER 1: ', 'ANSWER 2: ', 'ANSWER 3: ',\n",
    "    'Ans: ',\n",
    "    'A 1:', 'A 2:', 'A 3:',\n",
    "    'A1. ', 'A1. ',\n",
    "    'A) ', '(a) ',\n",
    "    '(A)', '(B)', '(C)',\n",
    "    '(c)', '(b)', '(c)',\n",
    "    'a)', 'b)', \n",
    "    'A: ', 'A. ', \n",
    "    'A1:', 'A2:', 'A3:', 'A4:', 'A5:',\n",
    "    'A2.', 'A3.', 'A4.', 'A5.',\n",
    "    '1. ', '2. ', '3. ','4. ', '6. ',\n",
    "    '5.1 ', '2.1 ',\n",
    "    'A. ', 'B. ', 'C. ', 'D. ', 'E. ',\n",
    "])"
   ]
  },
  {
   "cell_type": "code",
   "execution_count": 16,
   "id": "34525770-46a4-4ed5-908d-cdd4ab82d9fd",
   "metadata": {},
   "outputs": [
    {
     "data": {
      "text/plain": [
       "(39,\n",
       " [(115,\n",
       "   'Brain Brain Brain Brain Brain Big Brain Big Brain Big Brain Big Brain Big Brain Big Brain Big Bra'),\n",
       "  (693, '1.1 It means a machine that can produce fusion.'),\n",
       "  (695,\n",
       "   '3.1 Physicists will find their holy grail: room temperature superconductors.'),\n",
       "  (696,\n",
       "   '4.1 They will hover above the ground and travel at several hundred miles per hour.'),\n",
       "  (726, 'AnswerAnswerAnswerAnsweringertipgimgertips'),\n",
       "  (855, 'A'),\n",
       "  (874, 'twins twins twins twins twins twins twinsQuestion Answer Pair 1:'),\n",
       "  (913, 'Answer  the'),\n",
       "  (1090,\n",
       "   'cut on another sheet on the cut and find itself on the cut and finds itself on the cut and finds itself, cut and finds itself on the cut and finds'),\n",
       "  (1130, 'AAAAAAAAAA'),\n",
       "  (1283, 'Qustion - Answer pairs'),\n",
       "  (1284,\n",
       "   'Answer - To understand how a 4 dimensional hypercube can be unraveled into a series of 3 dimensional cubes, and to examine the shadows cast by these cubes on the third dimension.'),\n",
       "  (1285, 'Answer - A cross, consisting of six squares.'),\n",
       "  (1286, 'Answer - As a cross, consisting of six squares.'),\n",
       "  (1287,\n",
       "   'Answer - The cubes of a tesseract.5.Who depicted in what is the image depiction - What does the artwork of Christus Salvador Dalikeystler reference picture depicted by depicted depicted depicted depicted depicted depicted depicted depicted on what is a depictured in which artist depicted depicted depicted depicted depicted depicted depicted depicted depicted depiction depictor what does the artist Salvador'),\n",
       "  (1828, 'AnswerAnswerAnswerAnswerAnswerAnswerAnswerAnswer'),\n",
       "  (1885, 'AnswerAnswerAnswerAnswerAnswerAnswerAnswerAnswer'),\n",
       "  (2249, 'Answer  AnswerAnswer'),\n",
       "  (2693,\n",
       "   'Answer Key:1. The energy of chemical reactions is measured in electron volts.2. Humans have increased their power available to them by a factor of a million due to their manipulation of energy levels beyond those of animals.3. Humans have only manipulated energy levels beyond those of animals for 0.01% of their existence.4. Within just a few centuries, vast amounts of energy have been unleashed via the electromagnetic and nuclear forces.'),\n",
       "  (2991,\n",
       "   'A 1 : The AC spends eternity collecting data and contemplating the final question.'),\n",
       "  (3000,\n",
       "   'Answer 12: The author believes that experimentation is essential in science, as it is the only way to test theories against reality and determine their accuracy.'),\n",
       "  (3121, 'AnswerAnswerAnswerAnswerAnswer  AnswerAnswer'),\n",
       "  (3278, 'AnswerAnswerAnswerAnswerAnswerAnswerAnswer'),\n",
       "  (3304, 'AnswerAnswerAnswerAnswerAnswerAnswerAnswerAnswerAnswerAnswer'),\n",
       "  (3322,\n",
       "   \"Answers:1. Teleportation could change the course of civilization and alter the destiny of nations. It could irreversibly alter the rules of warfare by enabling armies to transport troops behind enemy lines or simply capturing enemy leadership through teleportation. Today's transportation systems, including cars, ships, airplanes, and railroads, would become obsolete as we could teleport ourselves to work and our goods to market. Vacations would become effortless as we could teleport ourselves to our destination.2. Teleportation has been mentioned in religious texts such as the Bible, where spirits whisk individuals away. This passage from Acts in the New Testament seems to suggest the teleportation of Philip.\"),\n",
       "  (3454,\n",
       "   'Answers:B. The Electron Pump, which produces unlimited energy for free.'),\n",
       "  (3773, 'Ans. A tesseract, which is an unraveled four-dimensional cube.'),\n",
       "  (3774, 'Ans. Marcel Duchamp.'),\n",
       "  (3775, 'Ans. They live in the fourth dimension.'),\n",
       "  (3776,\n",
       "   'Ans. The Invisible Man, The Planner Story, and The Wonderful Visit.'),\n",
       "  (3777, 'Ans. The Won\\xadderful Visit.'),\n",
       "  (3813,\n",
       "   'Answer  in the year  byAnswerAnswerAnswerAnswerAnswerAnswer  in the early in the end.'),\n",
       "  (3886, 'AnswerAnswerAnswerAnswerAnswerAnswerAnswerAnswerAnswer'),\n",
       "  (3945, 'AnswerAnswerAnswerAnswerAnswerAnswerAnswerAnswerAnswerAnswer'),\n",
       "  (4089, 'Answer 1939393939393939393939'),\n",
       "  (4423,\n",
       "   'ANSWER - According to the text, the CEO makes final decisions by gathering and sifting through various sources of information before selecting an appropriate course of action. While some decisions are made intuitively, others involve more complex processing of multiple pieces of information from different sources.'),\n",
       "  (4546,\n",
       "   \"This question is relevant to the input text because it delves into the idea of manipulating memories and consciousness through technology. The author suggests that is anonymous response could potentially transformative text suggests that weaker're are several possibilities of the text mentions of the text posediscnarrangstextrapist answer will be\"),\n",
       "  (4738,\n",
       "   'Answer n: The children who exhibited delayed gratification scored higher on higher-paying jobs.'),\n",
       "  (4827, 'Answer')])"
      ]
     },
     "execution_count": 16,
     "metadata": {},
     "output_type": "execute_result"
    }
   ],
   "source": [
    "bad_answers = []\n",
    "\n",
    "for ix, an in enumerate(df['Answer'].values):\n",
    "    \n",
    "    found = False\n",
    "    \n",
    "    for u in uua:\n",
    "        if an.startswith(u):\n",
    "            found = True\n",
    "    if not found:\n",
    "        bad_answers.append((ix, an))\n",
    "\n",
    "len(bad_answers), bad_answers"
   ]
  },
  {
   "cell_type": "code",
   "execution_count": 17,
   "id": "4d3432b9-449b-4044-9ec8-6e951513f078",
   "metadata": {},
   "outputs": [
    {
     "data": {
      "text/plain": [
       "array([ 115,  693,  695,  696,  726,  855,  874,  913, 1090, 1130, 1283,\n",
       "       1284, 1285, 1286, 1287, 1828, 1885, 2249, 2693, 2991, 3000, 3121,\n",
       "       3278, 3304, 3322, 3454, 3773, 3774, 3775, 3776, 3777, 3813, 3886,\n",
       "       3945, 4089, 4423, 4546, 4738, 4827])"
      ]
     },
     "execution_count": 17,
     "metadata": {},
     "output_type": "execute_result"
    }
   ],
   "source": [
    "bad_answers_ixs = [ix for ix, bq in bad_answers]\n",
    "np.array(bad_answers_ixs)"
   ]
  },
  {
   "cell_type": "markdown",
   "id": "016879b3-fb13-4e3b-b671-5021f5a2c16d",
   "metadata": {},
   "source": [
    "### drop rows with bad questions"
   ]
  },
  {
   "cell_type": "code",
   "execution_count": 18,
   "id": "10ba3da4-e11b-49aa-9f57-873dbc21dc99",
   "metadata": {},
   "outputs": [],
   "source": [
    "df = df.drop(index=bad_answers_ixs)\n"
   ]
  },
  {
   "cell_type": "code",
   "execution_count": 19,
   "id": "2c5a3862-5dc8-45b3-a9b9-4f03699b3c4b",
   "metadata": {},
   "outputs": [
    {
     "data": {
      "text/plain": [
       "4946"
      ]
     },
     "execution_count": 19,
     "metadata": {},
     "output_type": "execute_result"
    }
   ],
   "source": [
    "len(df)"
   ]
  },
  {
   "cell_type": "markdown",
   "id": "fd752578-3d9b-424f-afac-f938b329992d",
   "metadata": {},
   "source": [
    "### replace uua with 'Answer: '"
   ]
  },
  {
   "cell_type": "code",
   "execution_count": 20,
   "id": "9d4c94dd-a5fc-4906-a6e5-9056d2fb093d",
   "metadata": {},
   "outputs": [
    {
     "data": {
      "text/plain": [
       "array(['(Answer)', 'answer :', '* Answer:', 'Answer:', 'ANSWER: ',\n",
       "       'Answer :', 'Answers: ', 'Answer 1:', 'Answer 2:', 'Answer 3:',\n",
       "       'Answer 4:', 'Answer 5:', 'Answer 6:', 'Answer 7:', 'Answer 14: ',\n",
       "       'Answer 20: ', 'ANSWER 1: ', 'ANSWER 2: ', 'ANSWER 3: ', 'Ans: ',\n",
       "       'A 1:', 'A 2:', 'A 3:', 'A1. ', 'A1. ', 'A) ', '(a) ', '(A)',\n",
       "       '(B)', '(C)', '(c)', '(b)', '(c)', 'a)', 'b)', 'A: ', 'A. ', 'A1:',\n",
       "       'A2:', 'A3:', 'A4:', 'A5:', 'A2.', 'A3.', 'A4.', 'A5.', '1. ',\n",
       "       '2. ', '3. ', '4. ', '6. ', '5.1 ', '2.1 ', 'A. ', 'B. ', 'C. ',\n",
       "       'D. ', 'E. '], dtype='<U11')"
      ]
     },
     "execution_count": 20,
     "metadata": {},
     "output_type": "execute_result"
    }
   ],
   "source": [
    "uua"
   ]
  },
  {
   "cell_type": "code",
   "execution_count": 21,
   "id": "68af7314-af03-4dcb-8428-3669ef04518b",
   "metadata": {},
   "outputs": [
    {
     "data": {
      "text/plain": [
       "Index(['Question', 'Answer'], dtype='object')"
      ]
     },
     "execution_count": 21,
     "metadata": {},
     "output_type": "execute_result"
    }
   ],
   "source": [
    "df.columns"
   ]
  },
  {
   "cell_type": "code",
   "execution_count": 25,
   "id": "b1745f40-da06-4b63-ac95-68c7f2029f59",
   "metadata": {},
   "outputs": [],
   "source": [
    "df['Answer'].iloc[0] = 'Answer: The title of the book is \"Mind over Matter: The Future of AI\".'"
   ]
  },
  {
   "cell_type": "code",
   "execution_count": 26,
   "id": "d0809337-f95d-4683-875f-7b8e86ff102c",
   "metadata": {},
   "outputs": [
    {
     "data": {
      "text/plain": [
       "'Answer: The title of the book is \"Mind over Matter: The Future of AI\".'"
      ]
     },
     "execution_count": 26,
     "metadata": {},
     "output_type": "execute_result"
    }
   ],
   "source": [
    "df['Answer'].iloc[0]"
   ]
  },
  {
   "cell_type": "code",
   "execution_count": 27,
   "id": "98a74510-abf4-4224-8f2a-3c3df2e18d7d",
   "metadata": {
    "scrolled": true
   },
   "outputs": [],
   "source": [
    "\n",
    "for ix in range(len(df)):\n",
    "    ans_str = df['Answer'].iloc[ix]\n",
    "\n",
    "    for u in uua:\n",
    "        if ans_str.startswith(u):\n",
    "            ans_str = ans_str.replace(u, \"Answer: \")\n",
    "    \n",
    "    df['Answer'].iloc[ix] = ans_str\n",
    "    "
   ]
  },
  {
   "cell_type": "code",
   "execution_count": 28,
   "id": "d7da0d2c-d60d-4473-bbf7-133c9ce8a76c",
   "metadata": {},
   "outputs": [
    {
     "data": {
      "text/html": [
       "<div>\n",
       "<style scoped>\n",
       "    .dataframe tbody tr th:only-of-type {\n",
       "        vertical-align: middle;\n",
       "    }\n",
       "\n",
       "    .dataframe tbody tr th {\n",
       "        vertical-align: top;\n",
       "    }\n",
       "\n",
       "    .dataframe thead th {\n",
       "        text-align: right;\n",
       "    }\n",
       "</style>\n",
       "<table border=\"1\" class=\"dataframe\">\n",
       "  <thead>\n",
       "    <tr style=\"text-align: right;\">\n",
       "      <th></th>\n",
       "      <th>Question</th>\n",
       "      <th>Answer</th>\n",
       "    </tr>\n",
       "  </thead>\n",
       "  <tbody>\n",
       "    <tr>\n",
       "      <th>0</th>\n",
       "      <td>Question 1: What is the title of the book bein...</td>\n",
       "      <td>Answer:  The title of the book is \"Mind over M...</td>\n",
       "    </tr>\n",
       "    <tr>\n",
       "      <th>1</th>\n",
       "      <td>Question 2: What are some of the future techno...</td>\n",
       "      <td>Answer:  Some of the future technologies menti...</td>\n",
       "    </tr>\n",
       "    <tr>\n",
       "      <th>2</th>\n",
       "      <td>Question 3: Who did the author thank for their...</td>\n",
       "      <td>Answer:  The author thanked their editors Roge...</td>\n",
       "    </tr>\n",
       "    <tr>\n",
       "      <th>3</th>\n",
       "      <td>Question 4: What is the overall theme of the b...</td>\n",
       "      <td>Answer:  The overall theme of the book is the ...</td>\n",
       "    </tr>\n",
       "    <tr>\n",
       "      <th>4</th>\n",
       "      <td>Question: Who did the author encourage to take...</td>\n",
       "      <td>Answer:  The author encouraged \"more than thre...</td>\n",
       "    </tr>\n",
       "    <tr>\n",
       "      <th>...</th>\n",
       "      <td>...</td>\n",
       "      <td>...</td>\n",
       "    </tr>\n",
       "    <tr>\n",
       "      <th>4997</th>\n",
       "      <td>3. What is the fate of humans in the series of...</td>\n",
       "      <td>Answer:  According to the text, humans are red...</td>\n",
       "    </tr>\n",
       "    <tr>\n",
       "      <th>4998</th>\n",
       "      <td>1. What drove the expansion of the human brain?</td>\n",
       "      <td>Answer: Men's ability to strategize and lead t...</td>\n",
       "    </tr>\n",
       "    <tr>\n",
       "      <th>4999</th>\n",
       "      <td>2. Why did females choose males with large bra...</td>\n",
       "      <td>Answer: To outwit other males and become leade...</td>\n",
       "    </tr>\n",
       "    <tr>\n",
       "      <th>5000</th>\n",
       "      <td>Q: What drove the expansion of the human brain?</td>\n",
       "      <td>Answer: B. Women's choice of men with large br...</td>\n",
       "    </tr>\n",
       "    <tr>\n",
       "      <th>5001</th>\n",
       "      <td>Q: Why did females choose males with large bra...</td>\n",
       "      <td>Answer: B. To outwit other males and become le...</td>\n",
       "    </tr>\n",
       "  </tbody>\n",
       "</table>\n",
       "<p>4946 rows × 2 columns</p>\n",
       "</div>"
      ],
      "text/plain": [
       "                                               Question  \\\n",
       "0     Question 1: What is the title of the book bein...   \n",
       "1     Question 2: What are some of the future techno...   \n",
       "2     Question 3: Who did the author thank for their...   \n",
       "3     Question 4: What is the overall theme of the b...   \n",
       "4     Question: Who did the author encourage to take...   \n",
       "...                                                 ...   \n",
       "4997  3. What is the fate of humans in the series of...   \n",
       "4998    1. What drove the expansion of the human brain?   \n",
       "4999  2. Why did females choose males with large bra...   \n",
       "5000    Q: What drove the expansion of the human brain?   \n",
       "5001  Q: Why did females choose males with large bra...   \n",
       "\n",
       "                                                 Answer  \n",
       "0     Answer:  The title of the book is \"Mind over M...  \n",
       "1     Answer:  Some of the future technologies menti...  \n",
       "2     Answer:  The author thanked their editors Roge...  \n",
       "3     Answer:  The overall theme of the book is the ...  \n",
       "4     Answer:  The author encouraged \"more than thre...  \n",
       "...                                                 ...  \n",
       "4997  Answer:  According to the text, humans are red...  \n",
       "4998  Answer: Men's ability to strategize and lead t...  \n",
       "4999  Answer: To outwit other males and become leade...  \n",
       "5000  Answer: B. Women's choice of men with large br...  \n",
       "5001  Answer: B. To outwit other males and become le...  \n",
       "\n",
       "[4946 rows x 2 columns]"
      ]
     },
     "execution_count": 28,
     "metadata": {},
     "output_type": "execute_result"
    }
   ],
   "source": [
    "df"
   ]
  },
  {
   "cell_type": "code",
   "execution_count": null,
   "id": "19b43337-9a2a-43dd-b198-879b3c3874d5",
   "metadata": {},
   "outputs": [],
   "source": []
  },
  {
   "cell_type": "code",
   "execution_count": null,
   "id": "b14d0077-6278-477c-aff3-6fd3edab8db1",
   "metadata": {},
   "outputs": [],
   "source": []
  },
  {
   "cell_type": "code",
   "execution_count": 119,
   "id": "e1ebd4d5-53a7-4d89-ae1b-d4795a4f8f1d",
   "metadata": {},
   "outputs": [
    {
     "data": {
      "text/plain": [
       "array(['Question 2: Why are physicists excited about the ten-dimensional theory?',\n",
       "       'Answer:  Physicists are excited because it is possible to obtain solutions that are tantalizingly close to the Standard Model, and thus incorporate a large body of modern mathematics that previously seemed quite useless.',\n",
       "       'Question 2: Why are physicists excited about the ten-dimensional theory?\\n\\nAnswer:  Physicists are excited because it is possible to obtain solutions that are tantalizingly close to the Standard Model, and thus incorporate a large body of modern mathematics that previously seemed quite useless.'],\n",
       "      dtype=object)"
      ]
     },
     "execution_count": 119,
     "metadata": {},
     "output_type": "execute_result"
    }
   ],
   "source": [
    "df.iloc[2203].values"
   ]
  },
  {
   "cell_type": "code",
   "execution_count": 30,
   "id": "4a92894b-da41-4088-9f8c-7fd321851d6e",
   "metadata": {},
   "outputs": [
    {
     "data": {
      "text/plain": [
       "4946"
      ]
     },
     "execution_count": 30,
     "metadata": {},
     "output_type": "execute_result"
    }
   ],
   "source": [
    "len(df)"
   ]
  },
  {
   "cell_type": "code",
   "execution_count": 32,
   "id": "d891df59-6702-4489-818d-8d8597f2a6af",
   "metadata": {},
   "outputs": [],
   "source": [
    "# Concatenate 'Question' and 'Answer' columns into a new column 'text'\n",
    "df['text'] = df['Question'] + '\\n\\n' + df['Answer']"
   ]
  },
  {
   "cell_type": "code",
   "execution_count": 7,
   "id": "54eb4e1e-19b7-4e14-87ee-1bc4d800206d",
   "metadata": {
    "colab": {
     "base_uri": "https://localhost:8080/"
    },
    "executionInfo": {
     "elapsed": 434,
     "status": "ok",
     "timestamp": 1702040586841,
     "user": {
      "displayName": "shyam kumar",
      "userId": "03837868203400170640"
     },
     "user_tz": -330
    },
    "id": "2KEw-rv9Trdv",
    "outputId": "caa25352-3df4-401c-eb30-2b6cc13a66d1"
   },
   "outputs": [
    {
     "ename": "NameError",
     "evalue": "name 'np' is not defined",
     "output_type": "error",
     "traceback": [
      "\u001b[0;31m---------------------------------------------------------------------------\u001b[0m",
      "\u001b[0;31mNameError\u001b[0m                                 Traceback (most recent call last)",
      "\u001b[0;32m/tmp/ipykernel_101325/1216731083.py\u001b[0m in \u001b[0;36m<module>\u001b[0;34m\u001b[0m\n\u001b[0;32m----> 1\u001b[0;31m \u001b[0mrand_ix\u001b[0m \u001b[0;34m=\u001b[0m \u001b[0mnp\u001b[0m\u001b[0;34m.\u001b[0m\u001b[0mrandom\u001b[0m\u001b[0;34m.\u001b[0m\u001b[0mrandint\u001b[0m\u001b[0;34m(\u001b[0m\u001b[0mlen\u001b[0m\u001b[0;34m(\u001b[0m\u001b[0mdf\u001b[0m\u001b[0;34m)\u001b[0m\u001b[0;34m)\u001b[0m\u001b[0;34m\u001b[0m\u001b[0;34m\u001b[0m\u001b[0m\n\u001b[0m\u001b[1;32m      2\u001b[0m \u001b[0mprint\u001b[0m\u001b[0;34m(\u001b[0m\u001b[0mdf\u001b[0m\u001b[0;34m[\u001b[0m\u001b[0;34m'text'\u001b[0m\u001b[0;34m]\u001b[0m\u001b[0;34m.\u001b[0m\u001b[0mloc\u001b[0m\u001b[0;34m[\u001b[0m\u001b[0mrand_ix\u001b[0m\u001b[0;34m]\u001b[0m\u001b[0;34m)\u001b[0m\u001b[0;34m\u001b[0m\u001b[0;34m\u001b[0m\u001b[0m\n",
      "\u001b[0;31mNameError\u001b[0m: name 'np' is not defined"
     ]
    }
   ],
   "source": [
    "rand_ix = np.random.randint(len(df))\n",
    "print(df['text'].loc[rand_ix])"
   ]
  },
  {
   "cell_type": "code",
   "execution_count": 128,
   "id": "3b5d48b4-2d68-4aed-ab0b-7b5fd4f111d8",
   "metadata": {},
   "outputs": [
    {
     "data": {
      "text/plain": [
       "1730"
      ]
     },
     "execution_count": 128,
     "metadata": {},
     "output_type": "execute_result"
    }
   ],
   "source": [
    "rand_ix"
   ]
  },
  {
   "cell_type": "code",
   "execution_count": null,
   "id": "47607ec7-1f9a-4423-9d25-f3b854ab3f8f",
   "metadata": {},
   "outputs": [],
   "source": []
  },
  {
   "cell_type": "code",
   "execution_count": 83,
   "id": "14c5713a-66bf-4c65-bfc6-ee6090b9cffc",
   "metadata": {},
   "outputs": [
    {
     "data": {
      "text/html": [
       "<div>\n",
       "<style scoped>\n",
       "    .dataframe tbody tr th:only-of-type {\n",
       "        vertical-align: middle;\n",
       "    }\n",
       "\n",
       "    .dataframe tbody tr th {\n",
       "        vertical-align: top;\n",
       "    }\n",
       "\n",
       "    .dataframe thead th {\n",
       "        text-align: right;\n",
       "    }\n",
       "</style>\n",
       "<table border=\"1\" class=\"dataframe\">\n",
       "  <thead>\n",
       "    <tr style=\"text-align: right;\">\n",
       "      <th></th>\n",
       "      <th>Question</th>\n",
       "      <th>Answer</th>\n",
       "      <th>text</th>\n",
       "    </tr>\n",
       "  </thead>\n",
       "  <tbody>\n",
       "    <tr>\n",
       "      <th>0</th>\n",
       "      <td>Question 1: What is the title of the book bein...</td>\n",
       "      <td>Answer:  The title of the book is \"Mind over M...</td>\n",
       "      <td>Question 1: What is the title of the book bein...</td>\n",
       "    </tr>\n",
       "    <tr>\n",
       "      <th>1</th>\n",
       "      <td>Question 2: What are some of the future techno...</td>\n",
       "      <td>Answer:  Some of the future technologies menti...</td>\n",
       "      <td>Question 2: What are some of the future techno...</td>\n",
       "    </tr>\n",
       "    <tr>\n",
       "      <th>2</th>\n",
       "      <td>Question 3: Who did the author thank for their...</td>\n",
       "      <td>Answer:  The author thanked their editors Roge...</td>\n",
       "      <td>Question 3: Who did the author thank for their...</td>\n",
       "    </tr>\n",
       "    <tr>\n",
       "      <th>3</th>\n",
       "      <td>Question 4: What is the overall theme of the b...</td>\n",
       "      <td>Answer:  The overall theme of the book is the ...</td>\n",
       "      <td>Question 4: What is the overall theme of the b...</td>\n",
       "    </tr>\n",
       "    <tr>\n",
       "      <th>4</th>\n",
       "      <td>Question: Who did the author encourage to take...</td>\n",
       "      <td>Answer:  The author encouraged \"more than thre...</td>\n",
       "      <td>Question: Who did the author encourage to take...</td>\n",
       "    </tr>\n",
       "    <tr>\n",
       "      <th>...</th>\n",
       "      <td>...</td>\n",
       "      <td>...</td>\n",
       "      <td>...</td>\n",
       "    </tr>\n",
       "    <tr>\n",
       "      <th>4997</th>\n",
       "      <td>3. What is the fate of humans in the series of...</td>\n",
       "      <td>Answer:  According to the text, humans are red...</td>\n",
       "      <td>3. What is the fate of humans in the series of...</td>\n",
       "    </tr>\n",
       "    <tr>\n",
       "      <th>4998</th>\n",
       "      <td>1. What drove the expansion of the human brain?</td>\n",
       "      <td>Answer: Men's ability to strategize and lead t...</td>\n",
       "      <td>1. What drove the expansion of the human brain...</td>\n",
       "    </tr>\n",
       "    <tr>\n",
       "      <th>4999</th>\n",
       "      <td>2. Why did females choose males with large bra...</td>\n",
       "      <td>Answer: To outwit other males and become leade...</td>\n",
       "      <td>2. Why did females choose males with large bra...</td>\n",
       "    </tr>\n",
       "    <tr>\n",
       "      <th>5000</th>\n",
       "      <td>Q: What drove the expansion of the human brain?</td>\n",
       "      <td>Answer: B. Women's choice of men with large br...</td>\n",
       "      <td>Q: What drove the expansion of the human brain...</td>\n",
       "    </tr>\n",
       "    <tr>\n",
       "      <th>5001</th>\n",
       "      <td>Q: Why did females choose males with large bra...</td>\n",
       "      <td>Answer: B. To outwit other males and become le...</td>\n",
       "      <td>Q: Why did females choose males with large bra...</td>\n",
       "    </tr>\n",
       "  </tbody>\n",
       "</table>\n",
       "<p>4946 rows × 3 columns</p>\n",
       "</div>"
      ],
      "text/plain": [
       "                                               Question  \\\n",
       "0     Question 1: What is the title of the book bein...   \n",
       "1     Question 2: What are some of the future techno...   \n",
       "2     Question 3: Who did the author thank for their...   \n",
       "3     Question 4: What is the overall theme of the b...   \n",
       "4     Question: Who did the author encourage to take...   \n",
       "...                                                 ...   \n",
       "4997  3. What is the fate of humans in the series of...   \n",
       "4998    1. What drove the expansion of the human brain?   \n",
       "4999  2. Why did females choose males with large bra...   \n",
       "5000    Q: What drove the expansion of the human brain?   \n",
       "5001  Q: Why did females choose males with large bra...   \n",
       "\n",
       "                                                 Answer  \\\n",
       "0     Answer:  The title of the book is \"Mind over M...   \n",
       "1     Answer:  Some of the future technologies menti...   \n",
       "2     Answer:  The author thanked their editors Roge...   \n",
       "3     Answer:  The overall theme of the book is the ...   \n",
       "4     Answer:  The author encouraged \"more than thre...   \n",
       "...                                                 ...   \n",
       "4997  Answer:  According to the text, humans are red...   \n",
       "4998  Answer: Men's ability to strategize and lead t...   \n",
       "4999  Answer: To outwit other males and become leade...   \n",
       "5000  Answer: B. Women's choice of men with large br...   \n",
       "5001  Answer: B. To outwit other males and become le...   \n",
       "\n",
       "                                                   text  \n",
       "0     Question 1: What is the title of the book bein...  \n",
       "1     Question 2: What are some of the future techno...  \n",
       "2     Question 3: Who did the author thank for their...  \n",
       "3     Question 4: What is the overall theme of the b...  \n",
       "4     Question: Who did the author encourage to take...  \n",
       "...                                                 ...  \n",
       "4997  3. What is the fate of humans in the series of...  \n",
       "4998  1. What drove the expansion of the human brain...  \n",
       "4999  2. Why did females choose males with large bra...  \n",
       "5000  Q: What drove the expansion of the human brain...  \n",
       "5001  Q: Why did females choose males with large bra...  \n",
       "\n",
       "[4946 rows x 3 columns]"
      ]
     },
     "execution_count": 83,
     "metadata": {},
     "output_type": "execute_result"
    }
   ],
   "source": [
    "df"
   ]
  },
  {
   "cell_type": "code",
   "execution_count": null,
   "id": "d3dcfc6f-b9b9-4242-9297-61785950d4fa",
   "metadata": {},
   "outputs": [],
   "source": []
  },
  {
   "cell_type": "markdown",
   "id": "a3eb55d8-7828-4242-82d6-d5078df43a3e",
   "metadata": {},
   "source": [
    "### check Q and A lengths"
   ]
  },
  {
   "cell_type": "code",
   "execution_count": 73,
   "id": "21a03ba6-2bf9-4fa0-8deb-95e165a58b34",
   "metadata": {},
   "outputs": [],
   "source": [
    "for ix in range(len(df)):\n",
    "    ans_str = df['text'].iloc[ix]\n",
    "    if len(ans_str) > 1024:\n",
    "        print(len(ans_str))"
   ]
  },
  {
   "cell_type": "code",
   "execution_count": null,
   "id": "cc901a71-89ef-4480-a6bd-429dc5f245fd",
   "metadata": {},
   "outputs": [],
   "source": []
  },
  {
   "cell_type": "code",
   "execution_count": 78,
   "id": "60992dbd-7a3d-43f0-9b1d-06cd022baf2c",
   "metadata": {},
   "outputs": [],
   "source": [
    "# df.to_csv(\"train_QNA_text_format.csv\", index=False)"
   ]
  },
  {
   "cell_type": "code",
   "execution_count": null,
   "id": "c66bc786-87b4-4db4-94c5-a66fa7af3596",
   "metadata": {},
   "outputs": [],
   "source": []
  },
  {
   "cell_type": "code",
   "execution_count": null,
   "id": "79c0fd33-cda4-4236-a788-c7e8f39e314c",
   "metadata": {},
   "outputs": [],
   "source": []
  },
  {
   "cell_type": "code",
   "execution_count": 75,
   "id": "b82fe93b-48a1-4197-b66a-d97eaba42c88",
   "metadata": {},
   "outputs": [],
   "source": [
    "import pandas as pd\n",
    "import numpy as np\n"
   ]
  },
  {
   "cell_type": "code",
   "execution_count": 91,
   "id": "38dff294-d529-4084-af45-7108787b0b3d",
   "metadata": {},
   "outputs": [
    {
     "data": {
      "text/html": [
       "<div>\n",
       "<style scoped>\n",
       "    .dataframe tbody tr th:only-of-type {\n",
       "        vertical-align: middle;\n",
       "    }\n",
       "\n",
       "    .dataframe tbody tr th {\n",
       "        vertical-align: top;\n",
       "    }\n",
       "\n",
       "    .dataframe thead th {\n",
       "        text-align: right;\n",
       "    }\n",
       "</style>\n",
       "<table border=\"1\" class=\"dataframe\">\n",
       "  <thead>\n",
       "    <tr style=\"text-align: right;\">\n",
       "      <th></th>\n",
       "      <th>Question</th>\n",
       "      <th>Answer</th>\n",
       "      <th>text</th>\n",
       "    </tr>\n",
       "  </thead>\n",
       "  <tbody>\n",
       "    <tr>\n",
       "      <th>0</th>\n",
       "      <td>Question 1: What is the title of the book bein...</td>\n",
       "      <td>Answer:  The title of the book is \"Mind over M...</td>\n",
       "      <td>Question 1: What is the title of the book bein...</td>\n",
       "    </tr>\n",
       "    <tr>\n",
       "      <th>1</th>\n",
       "      <td>Question 2: What are some of the future techno...</td>\n",
       "      <td>Answer:  Some of the future technologies menti...</td>\n",
       "      <td>Question 2: What are some of the future techno...</td>\n",
       "    </tr>\n",
       "    <tr>\n",
       "      <th>2</th>\n",
       "      <td>Question 3: Who did the author thank for their...</td>\n",
       "      <td>Answer:  The author thanked their editors Roge...</td>\n",
       "      <td>Question 3: Who did the author thank for their...</td>\n",
       "    </tr>\n",
       "    <tr>\n",
       "      <th>3</th>\n",
       "      <td>Question 4: What is the overall theme of the b...</td>\n",
       "      <td>Answer:  The overall theme of the book is the ...</td>\n",
       "      <td>Question 4: What is the overall theme of the b...</td>\n",
       "    </tr>\n",
       "    <tr>\n",
       "      <th>4</th>\n",
       "      <td>Question: Who did the author encourage to take...</td>\n",
       "      <td>Answer:  The author encouraged \"more than thre...</td>\n",
       "      <td>Question: Who did the author encourage to take...</td>\n",
       "    </tr>\n",
       "    <tr>\n",
       "      <th>...</th>\n",
       "      <td>...</td>\n",
       "      <td>...</td>\n",
       "      <td>...</td>\n",
       "    </tr>\n",
       "    <tr>\n",
       "      <th>4941</th>\n",
       "      <td>3. What is the fate of humans in the series of...</td>\n",
       "      <td>Answer:  According to the text, humans are red...</td>\n",
       "      <td>3. What is the fate of humans in the series of...</td>\n",
       "    </tr>\n",
       "    <tr>\n",
       "      <th>4942</th>\n",
       "      <td>1. What drove the expansion of the human brain?</td>\n",
       "      <td>Answer: Men's ability to strategize and lead t...</td>\n",
       "      <td>1. What drove the expansion of the human brain...</td>\n",
       "    </tr>\n",
       "    <tr>\n",
       "      <th>4943</th>\n",
       "      <td>2. Why did females choose males with large bra...</td>\n",
       "      <td>Answer: To outwit other males and become leade...</td>\n",
       "      <td>2. Why did females choose males with large bra...</td>\n",
       "    </tr>\n",
       "    <tr>\n",
       "      <th>4944</th>\n",
       "      <td>Q: What drove the expansion of the human brain?</td>\n",
       "      <td>Answer: B. Women's choice of men with large br...</td>\n",
       "      <td>Q: What drove the expansion of the human brain...</td>\n",
       "    </tr>\n",
       "    <tr>\n",
       "      <th>4945</th>\n",
       "      <td>Q: Why did females choose males with large bra...</td>\n",
       "      <td>Answer: B. To outwit other males and become le...</td>\n",
       "      <td>Q: Why did females choose males with large bra...</td>\n",
       "    </tr>\n",
       "  </tbody>\n",
       "</table>\n",
       "<p>4946 rows × 3 columns</p>\n",
       "</div>"
      ],
      "text/plain": [
       "                                               Question  \\\n",
       "0     Question 1: What is the title of the book bein...   \n",
       "1     Question 2: What are some of the future techno...   \n",
       "2     Question 3: Who did the author thank for their...   \n",
       "3     Question 4: What is the overall theme of the b...   \n",
       "4     Question: Who did the author encourage to take...   \n",
       "...                                                 ...   \n",
       "4941  3. What is the fate of humans in the series of...   \n",
       "4942    1. What drove the expansion of the human brain?   \n",
       "4943  2. Why did females choose males with large bra...   \n",
       "4944    Q: What drove the expansion of the human brain?   \n",
       "4945  Q: Why did females choose males with large bra...   \n",
       "\n",
       "                                                 Answer  \\\n",
       "0     Answer:  The title of the book is \"Mind over M...   \n",
       "1     Answer:  Some of the future technologies menti...   \n",
       "2     Answer:  The author thanked their editors Roge...   \n",
       "3     Answer:  The overall theme of the book is the ...   \n",
       "4     Answer:  The author encouraged \"more than thre...   \n",
       "...                                                 ...   \n",
       "4941  Answer:  According to the text, humans are red...   \n",
       "4942  Answer: Men's ability to strategize and lead t...   \n",
       "4943  Answer: To outwit other males and become leade...   \n",
       "4944  Answer: B. Women's choice of men with large br...   \n",
       "4945  Answer: B. To outwit other males and become le...   \n",
       "\n",
       "                                                   text  \n",
       "0     Question 1: What is the title of the book bein...  \n",
       "1     Question 2: What are some of the future techno...  \n",
       "2     Question 3: Who did the author thank for their...  \n",
       "3     Question 4: What is the overall theme of the b...  \n",
       "4     Question: Who did the author encourage to take...  \n",
       "...                                                 ...  \n",
       "4941  3. What is the fate of humans in the series of...  \n",
       "4942  1. What drove the expansion of the human brain...  \n",
       "4943  2. Why did females choose males with large bra...  \n",
       "4944  Q: What drove the expansion of the human brain...  \n",
       "4945  Q: Why did females choose males with large bra...  \n",
       "\n",
       "[4946 rows x 3 columns]"
      ]
     },
     "execution_count": 91,
     "metadata": {},
     "output_type": "execute_result"
    }
   ],
   "source": [
    "df = pd.read_csv(\"train_QNA_text_format.csv\")\n",
    "df"
   ]
  },
  {
   "cell_type": "code",
   "execution_count": 120,
   "id": "17cc7ca2-07af-4535-a565-30b5535356e0",
   "metadata": {},
   "outputs": [
    {
     "name": "stdout",
     "output_type": "stream",
     "text": [
      "99\n",
      "2. Who is the director of GlobalSecurity.org?\n",
      "\n",
      "Answer:  Jena Pincott\n"
     ]
    }
   ],
   "source": [
    "rand_ix = np.random.randint(len(df))\n",
    "print(rand_ix)\n",
    "print(df['text'].loc[rand_ix])"
   ]
  },
  {
   "cell_type": "code",
   "execution_count": null,
   "id": "82fb168f-0a68-447f-a795-90bbd91dd23e",
   "metadata": {},
   "outputs": [],
   "source": []
  },
  {
   "cell_type": "code",
   "execution_count": 90,
   "id": "679cc81b-eba3-4993-97eb-7e2a861efaeb",
   "metadata": {},
   "outputs": [
    {
     "data": {
      "text/html": [
       "<div>\n",
       "<style scoped>\n",
       "    .dataframe tbody tr th:only-of-type {\n",
       "        vertical-align: middle;\n",
       "    }\n",
       "\n",
       "    .dataframe tbody tr th {\n",
       "        vertical-align: top;\n",
       "    }\n",
       "\n",
       "    .dataframe thead th {\n",
       "        text-align: right;\n",
       "    }\n",
       "</style>\n",
       "<table border=\"1\" class=\"dataframe\">\n",
       "  <thead>\n",
       "    <tr style=\"text-align: right;\">\n",
       "      <th></th>\n",
       "      <th>text</th>\n",
       "    </tr>\n",
       "  </thead>\n",
       "  <tbody>\n",
       "    <tr>\n",
       "      <th>0</th>\n",
       "      <td>DR. MICHIO KAMI \\n\\nPROFESSOR OF THEORETICAL P...</td>\n",
       "    </tr>\n",
       "    <tr>\n",
       "      <th>1</th>\n",
       "      <td>Includes bibliographical references. \\n\\n1. Ne...</td>\n",
       "    </tr>\n",
       "    <tr>\n",
       "      <th>2</th>\n",
       "      <td>10 THE ARTIFICIAL MIND AND SILICON CONSCIOUSNE...</td>\n",
       "    </tr>\n",
       "    <tr>\n",
       "      <th>3</th>\n",
       "      <td>Peter Doherty, Nobel laureate, St. Jude Childr...</td>\n",
       "    </tr>\n",
       "    <tr>\n",
       "      <th>4</th>\n",
       "      <td>Marcia Bartusiak, author of Einstein’s Unfinis...</td>\n",
       "    </tr>\n",
       "    <tr>\n",
       "      <th>...</th>\n",
       "      <td>...</td>\n",
       "    </tr>\n",
       "    <tr>\n",
       "      <th>4207</th>\n",
       "      <td>2006. \\n\\nGladwell, Malcolm. Outliers: The Sto...</td>\n",
       "    </tr>\n",
       "    <tr>\n",
       "      <th>4208</th>\n",
       "      <td>Nelson, Kevin. The Spiritual Doorway in the Br...</td>\n",
       "    </tr>\n",
       "    <tr>\n",
       "      <th>4209</th>\n",
       "      <td>Rose, Steven. The Future of the Brain: The Pro...</td>\n",
       "    </tr>\n",
       "    <tr>\n",
       "      <th>4210</th>\n",
       "      <td>4.1 The Laboratory of Dr. Miguel Nicolelis, Du...</td>\n",
       "    </tr>\n",
       "    <tr>\n",
       "      <th>4211</th>\n",
       "      <td>Physics of the Future \\nPhysics of the Impossi...</td>\n",
       "    </tr>\n",
       "  </tbody>\n",
       "</table>\n",
       "<p>4212 rows × 1 columns</p>\n",
       "</div>"
      ],
      "text/plain": [
       "                                                   text\n",
       "0     DR. MICHIO KAMI \\n\\nPROFESSOR OF THEORETICAL P...\n",
       "1     Includes bibliographical references. \\n\\n1. Ne...\n",
       "2     10 THE ARTIFICIAL MIND AND SILICON CONSCIOUSNE...\n",
       "3     Peter Doherty, Nobel laureate, St. Jude Childr...\n",
       "4     Marcia Bartusiak, author of Einstein’s Unfinis...\n",
       "...                                                 ...\n",
       "4207  2006. \\n\\nGladwell, Malcolm. Outliers: The Sto...\n",
       "4208  Nelson, Kevin. The Spiritual Doorway in the Br...\n",
       "4209  Rose, Steven. The Future of the Brain: The Pro...\n",
       "4210  4.1 The Laboratory of Dr. Miguel Nicolelis, Du...\n",
       "4211  Physics of the Future \\nPhysics of the Impossi...\n",
       "\n",
       "[4212 rows x 1 columns]"
      ]
     },
     "execution_count": 90,
     "metadata": {},
     "output_type": "execute_result"
    }
   ],
   "source": [
    "import pandas as pd\n",
    "import numpy as np\n",
    "\n",
    "bdf = pd.read_csv(\"train_MK_books.csv\")\n",
    "bdf"
   ]
  },
  {
   "cell_type": "code",
   "execution_count": 85,
   "id": "0c1f6cf4-5a9b-4324-a21f-818242ad50af",
   "metadata": {},
   "outputs": [
    {
     "name": "stdout",
     "output_type": "stream",
     "text": [
      "2737\n",
      "within Wikipedia. Watson could then analyze this mountain of \n",
      "information on live TV. \n",
      "\n",
      "Watson is just the latest generation of “expert systems,” software \n",
      "programs that use formal logic to access vast amounts of specialized \n",
      "information. (When you talk on the phone to a machine that gives you a \n",
      "menu of choices, this is a primitive expert system.) Expert systems will \n",
      "continue to evolve, making our lives more convenient and efficient. \n",
      "\n",
      "For example, engineers are currently working to create a “robo-doc,” \n",
      "which will appear on your wristwatch or wall screen and give you basic \n",
      "medical advice with 99 percent accuracy almost for free. You’d talk to it \n",
      "about your symptoms, and it would access the databanks of the world’s \n",
      "leading medical centers for the latest scientific information. This will \n",
      "reduce unnecessary visits to the doctor, eliminate costly false alarms, \n",
      "and make it effortless to have regular conversations with a doctor.\n"
     ]
    }
   ],
   "source": [
    "rand_ix = np.random.randint(len(bdf))\n",
    "print(rand_ix)\n",
    "print(bdf['text'].loc[rand_ix])"
   ]
  },
  {
   "cell_type": "code",
   "execution_count": null,
   "id": "af47103b-03c2-472d-8dcb-574de11d04c9",
   "metadata": {},
   "outputs": [],
   "source": []
  }
 ],
 "metadata": {
  "kernelspec": {
   "display_name": "Python 3 (ipykernel)",
   "language": "python",
   "name": "python3"
  },
  "language_info": {
   "codemirror_mode": {
    "name": "ipython",
    "version": 3
   },
   "file_extension": ".py",
   "mimetype": "text/x-python",
   "name": "python",
   "nbconvert_exporter": "python",
   "pygments_lexer": "ipython3",
   "version": "3.10.12"
  }
 },
 "nbformat": 4,
 "nbformat_minor": 5
}
