{
 "cells": [
  {
   "cell_type": "code",
   "execution_count": 80,
   "id": "8167d0e1-1bd7-4946-92ed-cf62efbb0205",
   "metadata": {},
   "outputs": [],
   "source": [
    "import numpy as np\n",
    "import pandas as pd\n",
    "from datasets import Dataset\n",
    "from transformers import AutoTokenizer\n",
    "from nltk import FreqDist\n",
    "import matplotlib.pyplot as plt"
   ]
  },
  {
   "cell_type": "code",
   "execution_count": 4,
   "id": "61b20b1b-f9b1-4904-8ce5-f9c85dbccad7",
   "metadata": {},
   "outputs": [],
   "source": [
    "df = pd.read_csv(\"data/train_coaxnn_paper_text.csv\")\n"
   ]
  },
  {
   "cell_type": "code",
   "execution_count": 5,
   "id": "56f20a3a-9fd5-4f0d-b951-1db40cce148b",
   "metadata": {},
   "outputs": [
    {
     "data": {
      "text/html": [
       "<div>\n",
       "<style scoped>\n",
       "    .dataframe tbody tr th:only-of-type {\n",
       "        vertical-align: middle;\n",
       "    }\n",
       "\n",
       "    .dataframe tbody tr th {\n",
       "        vertical-align: top;\n",
       "    }\n",
       "\n",
       "    .dataframe thead th {\n",
       "        text-align: right;\n",
       "    }\n",
       "</style>\n",
       "<table border=\"1\" class=\"dataframe\">\n",
       "  <thead>\n",
       "    <tr style=\"text-align: right;\">\n",
       "      <th></th>\n",
       "      <th>text</th>\n",
       "    </tr>\n",
       "  </thead>\n",
       "  <tbody>\n",
       "    <tr>\n",
       "      <th>0</th>\n",
       "      <td>Contents lists available at ScienceDirect\\n\\nJ...</td>\n",
       "    </tr>\n",
       "    <tr>\n",
       "      <th>1</th>\n",
       "      <td>Efficient neural networks\\nModel approximation...</td>\n",
       "    </tr>\n",
       "    <tr>\n",
       "      <th>2</th>\n",
       "      <td>propose a novel model optimization framework, ...</td>\n",
       "    </tr>\n",
       "    <tr>\n",
       "      <th>3</th>\n",
       "      <td>up to 1.53× speedup while reducing energy by u...</td>\n",
       "    </tr>\n",
       "    <tr>\n",
       "      <th>4</th>\n",
       "      <td>to the limited resources.\\n\\nMany efforts have...</td>\n",
       "    </tr>\n",
       "    <tr>\n",
       "      <th>...</th>\n",
       "      <td>...</td>\n",
       "    </tr>\n",
       "    <tr>\n",
       "      <th>141</th>\n",
       "      <td>Reference [47]: Y. Chen, X. Wen, Y. Zhang, Q. ...</td>\n",
       "    </tr>\n",
       "    <tr>\n",
       "      <th>142</th>\n",
       "      <td>Reference [48]: Y. Chen, X. Wen, Y. Zhang, W. ...</td>\n",
       "    </tr>\n",
       "    <tr>\n",
       "      <th>143</th>\n",
       "      <td>Reference [49]: X. Chen, H. Ma, J. Wan, B. Li,...</td>\n",
       "    </tr>\n",
       "    <tr>\n",
       "      <th>144</th>\n",
       "      <td>Reference [50]: G. Hinton, O. Vinyals, J. Dean...</td>\n",
       "    </tr>\n",
       "    <tr>\n",
       "      <th>145</th>\n",
       "      <td>Reference [51]: J. Horn, N. Nafpliotis, D.E. G...</td>\n",
       "    </tr>\n",
       "  </tbody>\n",
       "</table>\n",
       "<p>146 rows × 1 columns</p>\n",
       "</div>"
      ],
      "text/plain": [
       "                                                  text\n",
       "0    Contents lists available at ScienceDirect\\n\\nJ...\n",
       "1    Efficient neural networks\\nModel approximation...\n",
       "2    propose a novel model optimization framework, ...\n",
       "3    up to 1.53× speedup while reducing energy by u...\n",
       "4    to the limited resources.\\n\\nMany efforts have...\n",
       "..                                                 ...\n",
       "141  Reference [47]: Y. Chen, X. Wen, Y. Zhang, Q. ...\n",
       "142  Reference [48]: Y. Chen, X. Wen, Y. Zhang, W. ...\n",
       "143  Reference [49]: X. Chen, H. Ma, J. Wan, B. Li,...\n",
       "144  Reference [50]: G. Hinton, O. Vinyals, J. Dean...\n",
       "145  Reference [51]: J. Horn, N. Nafpliotis, D.E. G...\n",
       "\n",
       "[146 rows x 1 columns]"
      ]
     },
     "execution_count": 5,
     "metadata": {},
     "output_type": "execute_result"
    }
   ],
   "source": [
    "df"
   ]
  },
  {
   "cell_type": "code",
   "execution_count": 6,
   "id": "27125189-7e42-48a6-9200-dd949ce3dad6",
   "metadata": {},
   "outputs": [],
   "source": [
    "train = Dataset.from_pandas(df)"
   ]
  },
  {
   "cell_type": "code",
   "execution_count": 7,
   "id": "bece44ce-4fe0-43a9-acf6-2a52371e1216",
   "metadata": {},
   "outputs": [
    {
     "data": {
      "text/plain": [
       "Dataset({\n",
       "    features: ['text'],\n",
       "    num_rows: 146\n",
       "})"
      ]
     },
     "execution_count": 7,
     "metadata": {},
     "output_type": "execute_result"
    }
   ],
   "source": [
    "train"
   ]
  },
  {
   "cell_type": "code",
   "execution_count": 8,
   "id": "f1bcbf61-6bb3-4fa7-8b2d-ba800b763903",
   "metadata": {},
   "outputs": [
    {
     "data": {
      "text/plain": [
       "1006"
      ]
     },
     "execution_count": 8,
     "metadata": {},
     "output_type": "execute_result"
    }
   ],
   "source": [
    "len(train[10]['text'])"
   ]
  },
  {
   "cell_type": "code",
   "execution_count": 9,
   "id": "0f379e2e-d577-46b1-bb8a-08d2933b4d3f",
   "metadata": {},
   "outputs": [
    {
     "data": {
      "text/plain": [
       "3841344"
      ]
     },
     "execution_count": 9,
     "metadata": {},
     "output_type": "execute_result"
    }
   ],
   "source": [
    "4212 * 912"
   ]
  },
  {
   "cell_type": "code",
   "execution_count": 10,
   "id": "077f51e2-4da2-4e4f-813a-46f517239494",
   "metadata": {},
   "outputs": [
    {
     "name": "stderr",
     "output_type": "stream",
     "text": [
      "/home/aribra/.local/lib/python3.10/site-packages/huggingface_hub/file_download.py:1132: FutureWarning: `resume_download` is deprecated and will be removed in version 1.0.0. Downloads always resume when possible. If you want to force a new download, use `force_download=True`.\n",
      "  warnings.warn(\n"
     ]
    },
    {
     "data": {
      "application/vnd.jupyter.widget-view+json": {
       "model_id": "4a8294186a3a406cb5e0ed3991e2aee5",
       "version_major": 2,
       "version_minor": 0
      },
      "text/plain": [
       "tokenizer_config.json:   0%|          | 0.00/1.71k [00:00<?, ?B/s]"
      ]
     },
     "metadata": {},
     "output_type": "display_data"
    },
    {
     "data": {
      "application/vnd.jupyter.widget-view+json": {
       "model_id": "7ccc1acef0eb457dad7f68baf1b90223",
       "version_major": 2,
       "version_minor": 0
      },
      "text/plain": [
       "tokenizer.json:   0%|          | 0.00/1.84M [00:00<?, ?B/s]"
      ]
     },
     "metadata": {},
     "output_type": "display_data"
    },
    {
     "data": {
      "application/vnd.jupyter.widget-view+json": {
       "model_id": "8374e2df352a465ebcce64ba63b06d50",
       "version_major": 2,
       "version_minor": 0
      },
      "text/plain": [
       "special_tokens_map.json:   0%|          | 0.00/437 [00:00<?, ?B/s]"
      ]
     },
     "metadata": {},
     "output_type": "display_data"
    }
   ],
   "source": [
    "# Load the tokenizer\n",
    "model_id = \"ilufy/meta-llama2-7b-coaxnn-paper-domain-tuned-merged-180\"\n",
    "tokenizer = AutoTokenizer.from_pretrained(model_id, trust_remote_code=True)\n",
    "tokenizer.pad_token = tokenizer.eos_token\n",
    "tokenizer.padding_side = \"right\"\n"
   ]
  },
  {
   "cell_type": "code",
   "execution_count": 11,
   "id": "6d430df9-0add-4e50-af1d-e9c0c4cc9cd6",
   "metadata": {},
   "outputs": [
    {
     "data": {
      "text/plain": [
       "LlamaTokenizerFast(name_or_path='ilufy/meta-llama2-7b-coaxnn-paper-domain-tuned-merged-180', vocab_size=32000, model_max_length=1000000000000000019884624838656, is_fast=True, padding_side='right', truncation_side='right', special_tokens={'bos_token': '<s>', 'eos_token': '</s>', 'unk_token': '<unk>', 'pad_token': '</s>'}, clean_up_tokenization_spaces=False),  added_tokens_decoder={\n",
       "\t0: AddedToken(\"<unk>\", rstrip=False, lstrip=False, single_word=False, normalized=False, special=True),\n",
       "\t1: AddedToken(\"<s>\", rstrip=False, lstrip=False, single_word=False, normalized=False, special=True),\n",
       "\t2: AddedToken(\"</s>\", rstrip=False, lstrip=False, single_word=False, normalized=False, special=True),\n",
       "}"
      ]
     },
     "execution_count": 11,
     "metadata": {},
     "output_type": "execute_result"
    }
   ],
   "source": [
    "tokenizer"
   ]
  },
  {
   "cell_type": "code",
   "execution_count": 12,
   "id": "39fe2e35-78da-4de0-bc77-4e9329d454d7",
   "metadata": {},
   "outputs": [
    {
     "data": {
      "text/plain": [
       "'motivation are introduced in Section 2. The details of our optimization\\nframework are described in Section 3. The experimental evaluation\\nis conducted in Section 4. A discussion is given in Section 5. The\\nconclusion is presented in Section 6.\\n\\n2. Background and motivation\\n\\n2.1. Pruning-based approximation\\n\\nNeural network pruning, one of the most representative model com-\\npression techniques, approximates the original neural network model\\nby reducing redundant neurons or connections making less contribu-\\ntion to model performance. Most previous works on pruning-based\\napproximation can be roughly divided into two categories: unstructured\\npruning and structured pruning.\\n\\nPrior works on weight pruning [4,5] achieve high non-structured\\nsparsity of pruned models by removing single parameters in a fil-\\nter. Guo et al. [4] and Hal et al. [5] used magnitude-based pruning\\nmethods, which eliminate weights with the smallest magnitude. Guo\\net al. [4] proposed dynamic network surgery to reduce the network'"
      ]
     },
     "execution_count": 12,
     "metadata": {},
     "output_type": "execute_result"
    }
   ],
   "source": [
    "train[10]['text']"
   ]
  },
  {
   "cell_type": "code",
   "execution_count": 13,
   "id": "0dba5a78-0262-4e5b-b42f-e95e38370aee",
   "metadata": {},
   "outputs": [
    {
     "data": {
      "text/plain": [
       "{'input_ids': [1, 17385, 362, 526, 9129, 297, 9779, 29871, 29906, 29889, 450, 4902, 310, 1749, 13883, 13, 4468, 526, 5439, 297, 9779, 29871, 29941, 29889, 450, 17986, 17983, 13, 275, 18043, 297, 9779, 29871, 29946, 29889, 319, 10679, 338, 2183, 297, 9779, 29871, 29945, 29889, 450, 13, 535, 10085, 338, 9132, 297, 9779, 29871, 29953, 29889, 13, 13, 29906, 29889, 16585, 322, 17385, 362, 13, 13, 29906, 29889, 29896, 29889, 1588, 27964, 29899, 6707, 16845, 13, 13, 8139, 3631, 3564, 544, 27964, 29892, 697, 310, 278, 1556, 21097, 1904, 419, 29899, 13, 2590, 13698, 29892, 6881, 1078, 278, 2441, 19677, 3564, 1904, 13, 1609, 27668, 28005, 26808, 787, 470, 12368, 3907, 3109, 27895, 29899, 13, 12757, 304, 1904, 4180, 29889, 7849, 3517, 1736, 373, 544, 27964, 29899, 6707, 13, 9961, 2657, 362, 508, 367, 20928, 13931, 964, 1023, 13997, 29901, 443, 4984, 2955, 13, 558, 27964, 322, 2281, 2955, 544, 27964, 29889, 13, 13, 29925, 13479, 1736, 373, 7688, 544, 27964, 518, 29946, 29892, 29945, 29962, 6176, 1880, 1661, 29899, 4984, 2955, 13, 29879, 862, 29879, 537, 310, 544, 348, 287, 4733, 491, 11077, 2323, 4128, 297, 263, 977, 29899, 13, 357, 29889, 2088, 29877, 634, 394, 29889, 518, 29946, 29962, 322, 8142, 634, 394, 29889, 518, 29945, 29962, 1304, 18497, 29899, 6707, 544, 27964, 13, 23515, 29892, 607, 27399, 18177, 411, 278, 19087, 18497, 29889, 2088, 29877, 13, 300, 394, 29889, 518, 29946, 29962, 7972, 7343, 3564, 25300, 708, 304, 10032, 278, 3564], 'attention_mask': [1, 1, 1, 1, 1, 1, 1, 1, 1, 1, 1, 1, 1, 1, 1, 1, 1, 1, 1, 1, 1, 1, 1, 1, 1, 1, 1, 1, 1, 1, 1, 1, 1, 1, 1, 1, 1, 1, 1, 1, 1, 1, 1, 1, 1, 1, 1, 1, 1, 1, 1, 1, 1, 1, 1, 1, 1, 1, 1, 1, 1, 1, 1, 1, 1, 1, 1, 1, 1, 1, 1, 1, 1, 1, 1, 1, 1, 1, 1, 1, 1, 1, 1, 1, 1, 1, 1, 1, 1, 1, 1, 1, 1, 1, 1, 1, 1, 1, 1, 1, 1, 1, 1, 1, 1, 1, 1, 1, 1, 1, 1, 1, 1, 1, 1, 1, 1, 1, 1, 1, 1, 1, 1, 1, 1, 1, 1, 1, 1, 1, 1, 1, 1, 1, 1, 1, 1, 1, 1, 1, 1, 1, 1, 1, 1, 1, 1, 1, 1, 1, 1, 1, 1, 1, 1, 1, 1, 1, 1, 1, 1, 1, 1, 1, 1, 1, 1, 1, 1, 1, 1, 1, 1, 1, 1, 1, 1, 1, 1, 1, 1, 1, 1, 1, 1, 1, 1, 1, 1, 1, 1, 1, 1, 1, 1, 1, 1, 1, 1, 1, 1, 1, 1, 1, 1, 1, 1, 1, 1, 1, 1, 1, 1, 1, 1, 1, 1, 1, 1, 1, 1, 1, 1, 1, 1, 1, 1, 1, 1, 1, 1, 1, 1, 1, 1, 1, 1, 1, 1, 1, 1, 1, 1]}"
      ]
     },
     "execution_count": 13,
     "metadata": {},
     "output_type": "execute_result"
    }
   ],
   "source": [
    "tokenizer(train[10]['text'])"
   ]
  },
  {
   "cell_type": "code",
   "execution_count": 14,
   "id": "c30eca49-7c91-4a75-8dba-ea25f27437f7",
   "metadata": {},
   "outputs": [
    {
     "data": {
      "application/vnd.jupyter.widget-view+json": {
       "model_id": "940c77aa5c984d428cf6741873593627",
       "version_major": 2,
       "version_minor": 0
      },
      "text/plain": [
       "Map:   0%|          | 0/146 [00:00<?, ? examples/s]"
      ]
     },
     "metadata": {},
     "output_type": "display_data"
    }
   ],
   "source": [
    "def tokenize(batch):\n",
    "    batch['input_ids'] = [tokenizer(text)['input_ids'] for text in batch[\"text\"]]\n",
    "    return batch\n",
    "\n",
    "dset_tokenized = train.map(tokenize, batched=True)\n",
    "flattened_tokens = np.concatenate(dset_tokenized['input_ids'])\n",
    "fdist = FreqDist(flattened_tokens)\n"
   ]
  },
  {
   "cell_type": "code",
   "execution_count": 15,
   "id": "16f6bd95-c43c-418e-92e1-c7acd79acd6e",
   "metadata": {},
   "outputs": [
    {
     "data": {
      "text/plain": [
       "FreqDist({13: 3502, 29889: 1914, 29892: 1167, 160: 966, 29896: 937, 278: 935, 243: 895, 29900: 870, 29871: 781, 148: 772, ...})"
      ]
     },
     "execution_count": 15,
     "metadata": {},
     "output_type": "execute_result"
    }
   ],
   "source": [
    "fdist"
   ]
  },
  {
   "cell_type": "markdown",
   "id": "82d07345-6f3a-4381-be26-e43b0445a035",
   "metadata": {},
   "source": [
    "### Number of tokens"
   ]
  },
  {
   "cell_type": "code",
   "execution_count": 16,
   "id": "a8c2e60c-c625-4aa5-a287-d5b5ec7a1b3e",
   "metadata": {},
   "outputs": [
    {
     "data": {
      "text/plain": [
       "(37917,)"
      ]
     },
     "execution_count": 16,
     "metadata": {},
     "output_type": "execute_result"
    }
   ],
   "source": [
    "flattened_tokens.shape"
   ]
  },
  {
   "cell_type": "code",
   "execution_count": 17,
   "id": "5c0c2866-bb91-4490-9019-34bb7338b7f8",
   "metadata": {},
   "outputs": [
    {
     "data": {
      "text/plain": [
       "{'text': 'Contents lists available at ScienceDirect\\n\\nJournal of Systems Architecture\\n\\njournal homepage: www.elsevier.com/locate/sysarc\\n\\nCoAxNN: Optimizing on-device deep learning with conditional approximate\\nneural networks\\nGuangli Li a,b,1, Xiu Ma c,d,1, Qiuchu Yu a,b, Lei Liu c,d, Huaxiao Liu c,d, Xueying Wang a,b,∗\\na State Key Lab of Processors, Institute of Computing Technology, Chinese Academy of Sciences, Beijing, China\\nb University of Chinese Academy of Sciences, Beijing, China\\nc College of Computer Science and Technology, Jilin University, Changchun, China\\nd MOE Key Laboratory of Symbolic Computation and Knowledge Engineering, Jilin University, Changchun, China\\n\\nA R T I C L E I N F O\\n\\nA B S T R A C T\\n\\nKeywords:\\nOn-device deep learning\\nEfficient neural networks\\nModel approximation and optimization\\n\\nWhile deep neural networks have achieved superior performance in a variety of intelligent applications, the\\nincreasing computational complexity makes them difficult to be deployed on resource-constrained devices. To'}"
      ]
     },
     "execution_count": 17,
     "metadata": {},
     "output_type": "execute_result"
    }
   ],
   "source": [
    "train[0]"
   ]
  },
  {
   "cell_type": "code",
   "execution_count": 18,
   "id": "a4db52f5-660f-4cfb-83ea-7a4da24b9ebd",
   "metadata": {},
   "outputs": [
    {
     "data": {
      "text/plain": [
       "282"
      ]
     },
     "execution_count": 18,
     "metadata": {},
     "output_type": "execute_result"
    }
   ],
   "source": [
    "len(tokenizer(train[0]['text'])['input_ids'])"
   ]
  },
  {
   "cell_type": "code",
   "execution_count": 19,
   "id": "3560af81-2a43-4c17-839b-98766857b449",
   "metadata": {},
   "outputs": [],
   "source": [
    "# dset_tokenized[0]['text']['input_ids']"
   ]
  },
  {
   "cell_type": "code",
   "execution_count": 20,
   "id": "507289b7-cd5b-42be-a15a-f42ddc56b543",
   "metadata": {},
   "outputs": [],
   "source": [
    "tokens_dist = np.array(list(fdist.items()))"
   ]
  },
  {
   "cell_type": "code",
   "execution_count": 21,
   "id": "9277d85c-677f-498f-8211-2661cc012709",
   "metadata": {},
   "outputs": [
    {
     "data": {
      "text/plain": [
       "(2493, 2)"
      ]
     },
     "execution_count": 21,
     "metadata": {},
     "output_type": "execute_result"
    }
   ],
   "source": [
    "tokens_dist.shape"
   ]
  },
  {
   "cell_type": "code",
   "execution_count": 22,
   "id": "8117fa1c-7aab-4d50-a2c4-7daff5dd918b",
   "metadata": {},
   "outputs": [
    {
     "data": {
      "text/plain": [
       "3502"
      ]
     },
     "execution_count": 22,
     "metadata": {},
     "output_type": "execute_result"
    }
   ],
   "source": [
    "fdist[13]"
   ]
  },
  {
   "cell_type": "code",
   "execution_count": 23,
   "id": "aaaf82fe-6ac1-436f-8fb8-742cdf98c70a",
   "metadata": {},
   "outputs": [
    {
     "data": {
      "text/plain": [
       "array([[    1,   146],\n",
       "       [ 2866,     1],\n",
       "       [ 1237,     1],\n",
       "       [ 8857,     1],\n",
       "       [ 3625,    13],\n",
       "       [  472,    49],\n",
       "       [ 9327,     4],\n",
       "       [17392,     1],\n",
       "       [   13,  3502],\n",
       "       [29967,    30]])"
      ]
     },
     "execution_count": 23,
     "metadata": {},
     "output_type": "execute_result"
    }
   ],
   "source": [
    "tokens_dist[:10]"
   ]
  },
  {
   "cell_type": "code",
   "execution_count": 25,
   "id": "60a365b3-084b-4638-bfb1-3f4c77797c20",
   "metadata": {},
   "outputs": [
    {
     "data": {
      "text/plain": [
       "array([[    1,   146],\n",
       "       [   13,  3502],\n",
       "       [  472,    49],\n",
       "       [ 1237,     1],\n",
       "       [ 2866,     1],\n",
       "       [ 3625,    13],\n",
       "       [ 8857,     1],\n",
       "       [ 9327,     4],\n",
       "       [17392,     1],\n",
       "       [29967,    30]])"
      ]
     },
     "execution_count": 25,
     "metadata": {},
     "output_type": "execute_result"
    }
   ],
   "source": [
    "sample_sorted = tokens_dist[:10].copy()\n",
    "sample_sorted = sample_sorted[sample_sorted[:, 0].argsort()]\n",
    "sample_sorted"
   ]
  },
  {
   "cell_type": "markdown",
   "id": "fdad00a0-5805-4a90-98c9-2d108964f8c4",
   "metadata": {},
   "source": [
    "## Sort tokens"
   ]
  },
  {
   "cell_type": "code",
   "execution_count": 26,
   "id": "4cff46f1-9681-492c-ae06-f712c21bde9d",
   "metadata": {},
   "outputs": [],
   "source": [
    "tokens_dist = tokens_dist[tokens_dist[:, 1].argsort()]"
   ]
  },
  {
   "cell_type": "code",
   "execution_count": 27,
   "id": "520214c4-6ae5-45fc-9c54-855896cfd6d7",
   "metadata": {},
   "outputs": [
    {
     "data": {
      "text/plain": [
       "array([[  148,   772],\n",
       "       [29871,   781],\n",
       "       [29900,   870],\n",
       "       [  243,   895],\n",
       "       [  278,   935],\n",
       "       [29896,   937],\n",
       "       [  160,   966],\n",
       "       [29892,  1167],\n",
       "       [29889,  1914],\n",
       "       [   13,  3502]])"
      ]
     },
     "execution_count": 27,
     "metadata": {},
     "output_type": "execute_result"
    }
   ],
   "source": [
    "tokens_dist[-10:]"
   ]
  },
  {
   "cell_type": "code",
   "execution_count": 28,
   "id": "1c0ca221-29bf-4943-864a-b39c4f4d364b",
   "metadata": {},
   "outputs": [
    {
     "data": {
      "text/plain": [
       "['and',\n",
       " '9',\n",
       " '5',\n",
       " '7',\n",
       " '4',\n",
       " '8',\n",
       " 'of',\n",
       " '3',\n",
       " '-',\n",
       " '2',\n",
       " '�',\n",
       " '',\n",
       " '0',\n",
       " '�',\n",
       " 'the',\n",
       " '1',\n",
       " '�',\n",
       " ',',\n",
       " '.',\n",
       " '\\n']"
      ]
     },
     "execution_count": 28,
     "metadata": {},
     "output_type": "execute_result"
    }
   ],
   "source": [
    "tokenizer.batch_decode(tokens_dist[-20:, 0])"
   ]
  },
  {
   "cell_type": "code",
   "execution_count": 29,
   "id": "b0310ec7-9082-4ea3-821f-8f6a29fbd20a",
   "metadata": {},
   "outputs": [
    {
     "data": {
      "text/plain": [
       "(37917,)"
      ]
     },
     "execution_count": 29,
     "metadata": {},
     "output_type": "execute_result"
    }
   ],
   "source": [
    "flattened_tokens.shape"
   ]
  },
  {
   "cell_type": "code",
   "execution_count": 30,
   "id": "b1a2b6ff-c7a8-467f-a93c-ff86a288081e",
   "metadata": {},
   "outputs": [
    {
     "data": {
      "image/png": "[encoded data removed]",
      "text/plain": [
       "<Figure size 432x288 with 1 Axes>"
      ]
     },
     "metadata": {
      "needs_background": "light"
     },
     "output_type": "display_data"
    }
   ],
   "source": [
    "plt.hist(flattened_tokens, 20);"
   ]
  },
  {
   "cell_type": "code",
   "execution_count": 31,
   "id": "f7f1761e-6b43-4caa-b922-518b21fedb92",
   "metadata": {},
   "outputs": [
    {
     "data": {
      "text/plain": [
       "['and',\n",
       " '9',\n",
       " '5',\n",
       " '7',\n",
       " '4',\n",
       " '8',\n",
       " 'of',\n",
       " '3',\n",
       " '-',\n",
       " '2',\n",
       " '�',\n",
       " '',\n",
       " '0',\n",
       " '�',\n",
       " 'the',\n",
       " '1',\n",
       " '�',\n",
       " ',',\n",
       " '.',\n",
       " '\\n']"
      ]
     },
     "execution_count": 31,
     "metadata": {},
     "output_type": "execute_result"
    }
   ],
   "source": [
    "tokenizer.batch_decode(tokens_dist[-20:, 0])"
   ]
  },
  {
   "cell_type": "code",
   "execution_count": 44,
   "id": "e291bcff-2e34-47b2-8545-331fd60cd1c3",
   "metadata": {},
   "outputs": [
    {
     "data": {
      "text/plain": [
       "[170,\n",
       " 172,\n",
       " 178,\n",
       " 190,\n",
       " 194,\n",
       " 197,\n",
       " 203,\n",
       " 229,\n",
       " 253,\n",
       " 316,\n",
       " 335,\n",
       " 351,\n",
       " 351,\n",
       " 388,\n",
       " 392,\n",
       " 413,\n",
       " 474,\n",
       " 565,\n",
       " 717,\n",
       " 732,\n",
       " 772,\n",
       " 781,\n",
       " 870,\n",
       " 895,\n",
       " 935,\n",
       " 937,\n",
       " 966,\n",
       " 1167,\n",
       " 1914,\n",
       " 3502]"
      ]
     },
     "execution_count": 44,
     "metadata": {},
     "output_type": "execute_result"
    }
   ],
   "source": [
    "tokens_count"
   ]
  },
  {
   "cell_type": "code",
   "execution_count": 76,
   "id": "2743b56a-54cf-4df6-8e1d-2d31ede51999",
   "metadata": {},
   "outputs": [
    {
     "data": {
      "text/plain": [
       "array([  5.,   5.,   5.,   6.,   6.,   6.,   6.,   7.,   8.,  10.,  10.,\n",
       "        11.,  11.,  12.,  12.,  13.,  15.,  18.,  23.,  24.,  25.,  25.,\n",
       "        28.,  29.,  30.,  30.,  31.,  38.,  63., 116.])"
      ]
     },
     "execution_count": 76,
     "metadata": {},
     "output_type": "execute_result"
    }
   ],
   "source": []
  },
  {
   "cell_type": "code",
   "execution_count": 78,
   "id": "d155148e-9cb6-410f-9beb-67d3acb2f155",
   "metadata": {},
   "outputs": [
    {
     "name": "stdout",
     "output_type": "stream",
     "text": [
      "0 170\n",
      "1 172\n",
      "2 178\n",
      "3 190\n",
      "4 194\n",
      "5 197\n",
      "6 203\n",
      "7 229\n",
      "8 253\n",
      "9 316\n",
      "10 335\n",
      "11 351\n",
      "12 351\n",
      "13 388\n",
      "14 392\n",
      "15 413\n",
      "16 474\n",
      "17 565\n",
      "18 717\n",
      "19 732\n",
      "20 772\n",
      "21 781\n",
      "22 870\n",
      "23 895\n",
      "24 935\n",
      "25 937\n",
      "26 966\n",
      "27 1167\n",
      "28 1914\n",
      "29 3502\n"
     ]
    },
    {
     "data": {
      "image/png": "[encoded data removed]",
      "text/plain": [
       "<Figure size 1440x720 with 1 Axes>"
      ]
     },
     "metadata": {
      "needs_background": "light"
     },
     "output_type": "display_data"
    }
   ],
   "source": [
    "LIMIT = 30\n",
    "tokens_str = tokenizer.batch_decode(tokens_dist[-LIMIT:, 0])\n",
    "tokens_str = str(tokens_str)[1:-2].replace(\"'\", \"\").split(', ')\n",
    "tokens_count = list(tokens_dist[-LIMIT:, 1])\n",
    "\n",
    "fig = plt.figure(figsize = (20, 10))\n",
    "# plt.bar(tokens_str, tokens_count, color ='maroon', width = 0.7, );\n",
    "# plt.xticks(fontsize=15)\n",
    "# plt.yticks(fontsize=13)\n",
    "\n",
    "msizes = (np.array(tokens_count) - 10) / (60 - 20) // 1\n",
    "\n",
    "for ix, tc in enumerate(tokens_count):\n",
    "    print(ix, tc)\n",
    "    plt.plot(ix, tc, 'o', ms=msizes[ix])\n",
    "    plt.text(ix, tc, str(tc))\n",
    "\n",
    "plt.grid()\n"
   ]
  },
  {
   "cell_type": "code",
   "execution_count": 51,
   "id": "06c4df9b-5821-4c03-aa66-a193144c1367",
   "metadata": {},
   "outputs": [
    {
     "data": {
      "text/plain": [
       "\"['model', 'is', 'E', '[', 'for', 'A', 'Net', 'to', '(', '6', 'and', '9', '5', '7', '4', '8', 'of', '3', '-', '2', '�', '', '0', '�', 'the', '1', '�', ',', '.', '\\\\\\\\n']\""
      ]
     },
     "execution_count": 51,
     "metadata": {},
     "output_type": "execute_result"
    }
   ],
   "source": [
    "str(tokens_str)"
   ]
  },
  {
   "cell_type": "code",
   "execution_count": 52,
   "id": "432a998c-6143-4eee-821a-a6b07a3ac69a",
   "metadata": {},
   "outputs": [
    {
     "data": {
      "image/png": "[encoded data removed]",
      "text/plain": [
       "<Figure size 1440x720 with 1 Axes>"
      ]
     },
     "metadata": {
      "needs_background": "light"
     },
     "output_type": "display_data"
    }
   ],
   "source": [
    "LIMIT = 30\n",
    "tokens_str = [str(s) for s in tokenizer.batch_decode(tokens_dist[-60:-LIMIT:, 0])]\n",
    "tokens_count = list(tokens_dist[-60:-LIMIT:, 1])\n",
    "\n",
    "fig = plt.figure(figsize = (20, 10))\n",
    "plt.bar(tokens_str, tokens_count, color ='maroon', width = 0.7, );\n",
    "plt.xticks(fontsize=15)\n",
    "plt.yticks(fontsize=13)\n",
    "\n",
    "for ix, tc in enumerate(tokens_count):\n",
    "    plt.text(ix, tc, str(tc))\n",
    "\n",
    "plt.xticks(rotation=45)\n",
    "\n",
    "plt.grid()\n"
   ]
  },
  {
   "cell_type": "code",
   "execution_count": 53,
   "id": "c005885f-70eb-438a-81bf-4bc9dd856a8f",
   "metadata": {},
   "outputs": [
    {
     "data": {
      "image/png": "[encoded data removed]",
      "text/plain": [
       "<Figure size 1440x720 with 1 Axes>"
      ]
     },
     "metadata": {
      "needs_background": "light"
     },
     "output_type": "display_data"
    }
   ],
   "source": [
    "START = -90\n",
    "END = -1\n",
    "tokens_str = [str(s) for s in tokenizer.batch_decode(tokens_dist[START:END, 0])]\n",
    "tokens_count = list(tokens_dist[START:END, 1])\n",
    "\n",
    "fig = plt.figure(figsize = (20, 10))\n",
    "plt.bar(tokens_str, tokens_count, color ='maroon', width = 0.3, );\n",
    "plt.xticks(fontsize=15)\n",
    "plt.yticks(fontsize=13)\n",
    "\n",
    "for ix, tc in enumerate(tokens_count):\n",
    "    plt.text(ix-1, tc, str(tc))\n",
    "\n",
    "plt.xticks(rotation=45)\n",
    "\n",
    "plt.grid()\n"
   ]
  },
  {
   "cell_type": "code",
   "execution_count": 436,
   "id": "34aec0fb-58e8-4935-909b-af1c84f3e49a",
   "metadata": {},
   "outputs": [
    {
     "data": {
      "text/plain": [
       "[3328,\n",
       " 3800,\n",
       " 3940,\n",
       " 3944,\n",
       " 4004,\n",
       " 4212,\n",
       " 4248,\n",
       " 5060,\n",
       " 7524,\n",
       " 7744,\n",
       " 8316,\n",
       " 9560,\n",
       " 12604,\n",
       " 13288,\n",
       " 18008,\n",
       " 27776,\n",
       " 29460,\n",
       " 35504,\n",
       " 50968,\n",
       " 56532]"
      ]
     },
     "execution_count": 436,
     "metadata": {},
     "output_type": "execute_result"
    }
   ],
   "source": [
    "list(tokens_dist[-20:, 1])"
   ]
  },
  {
   "cell_type": "code",
   "execution_count": null,
   "id": "23173e11-1308-406e-bded-98841aa4177f",
   "metadata": {},
   "outputs": [],
   "source": []
  },
  {
   "cell_type": "code",
   "execution_count": null,
   "id": "0ea6527a-f841-4da9-9edd-140609ea17ae",
   "metadata": {},
   "outputs": [],
   "source": []
  },
  {
   "cell_type": "code",
   "execution_count": null,
   "id": "51052c7f-466f-4496-9896-56e472c43102",
   "metadata": {},
   "outputs": [],
   "source": []
  }
 ],
 "metadata": {
  "kernelspec": {
   "display_name": "Python 3 (ipykernel)",
   "language": "python",
   "name": "python3"
  },
  "language_info": {
   "codemirror_mode": {
    "name": "ipython",
    "version": 3
   },
   "file_extension": ".py",
   "mimetype": "text/x-python",
   "name": "python",
   "nbconvert_exporter": "python",
   "pygments_lexer": "ipython3",
   "version": "3.10.12"
  }
 },
 "nbformat": 4,
 "nbformat_minor": 5
}
