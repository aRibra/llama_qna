{
 "cells": [
  {
   "cell_type": "code",
   "execution_count": 1,
   "id": "5b4783b3-714b-4e3b-8be5-13de0558ea49",
   "metadata": {},
   "outputs": [],
   "source": [
    "import pandas as pd\n",
    "import numpy as np"
   ]
  },
  {
   "cell_type": "code",
   "execution_count": 2,
   "id": "91d1d143-4cb5-4622-80a1-11ee390ef564",
   "metadata": {},
   "outputs": [],
   "source": [
    "# from transformers import LlamaModel, LlamaConfig\n",
    "# from accelerate import init_empty_weights\n",
    "# config = LlamaConfig()\n",
    "# with init_empty_weights():\n",
    "#     model = LlamaModel(config)"
   ]
  },
  {
   "cell_type": "code",
   "execution_count": 3,
   "id": "54603159-df10-4f73-8cdb-318f5694e808",
   "metadata": {},
   "outputs": [
    {
     "name": "stderr",
     "output_type": "stream",
     "text": [
      "/home/aribra/.local/lib/python3.10/site-packages/huggingface_hub/file_download.py:1132: FutureWarning: `resume_download` is deprecated and will be removed in version 1.0.0. Downloads always resume when possible. If you want to force a new download, use `force_download=True`.\n",
      "  warnings.warn(\n"
     ]
    },
    {
     "data": {
      "application/vnd.jupyter.widget-view+json": {
       "model_id": "5fc8e0461ebf4ca3ac08282c7f20b143",
       "version_major": 2,
       "version_minor": 0
      },
      "text/plain": [
       "Loading checkpoint shards:   0%|          | 0/3 [00:00<?, ?it/s]"
      ]
     },
     "metadata": {},
     "output_type": "display_data"
    },
    {
     "name": "stderr",
     "output_type": "stream",
     "text": [
      "/home/aribra/.local/lib/python3.10/site-packages/huggingface_hub/file_download.py:1132: FutureWarning: `resume_download` is deprecated and will be removed in version 1.0.0. Downloads always resume when possible. If you want to force a new download, use `force_download=True`.\n",
      "  warnings.warn(\n"
     ]
    },
    {
     "data": {
      "application/vnd.jupyter.widget-view+json": {
       "model_id": "48072ac475894c278fee3659f2e13a9a",
       "version_major": 2,
       "version_minor": 0
      },
      "text/plain": [
       "generation_config.json:   0%|          | 0.00/183 [00:00<?, ?B/s]"
      ]
     },
     "metadata": {},
     "output_type": "display_data"
    }
   ],
   "source": [
    "import torch\n",
    "from transformers import BitsAndBytesConfig\n",
    "from transformers import AutoModelForCausalLM, AutoTokenizer\n",
    "\n",
    "\n",
    "# Get the type\n",
    "compute_dtype = getattr(torch, \"float16\")\n",
    "\n",
    "# BitsAndBytesConfig int-4 config\n",
    "bnb_config = BitsAndBytesConfig(\n",
    "    load_in_4bit=True,\n",
    "    bnb_4bit_use_double_quant=False,\n",
    "    bnb_4bit_quant_type=\"nf4\",\n",
    "    bnb_4bit_compute_dtype=compute_dtype\n",
    ")\n",
    "\n",
    "\n",
    "# hf_model_repo = \"meta-llama/Llama-2-7b-chat-hf\"\n",
    "hf_model_repo = \"ilufy/meta-llama-2-7b-mk-physics-qna-finetuned-2600\"\n",
    "# hf_model_repo = \"ilufy/meta-llama-2-7b-mk-physics-domain-tuned-2500\"\n",
    "\n",
    "\n",
    "# Get the tokenizer\n",
    "tokenizer = AutoTokenizer.from_pretrained(hf_model_repo)\n",
    "\n",
    "# Load the model\n",
    "model = AutoModelForCausalLM.from_pretrained(hf_model_repo,\n",
    "                                             quantization_config=bnb_config,\n",
    "                                             device_map=\"auto\")\n",
    "\n",
    "# prompt = \"Question: According to E. T. Bell, what sparked Riemann's early interest in number theory?\"\n",
    "# prompt = \"How many watts does the human brain use?\"\n",
    "#prompt = \"Who was Einstein's girlfriend?\"\n",
    "#prompt = \"What is the vision of Susumu Tachi regarding virtual and real reality?\"\n",
    "#prompt = \"Question: Is there an unsolvable problem in Math?\"\n",
    "#prompt = \"How can membranes like a beach ball induce resonance frequencies?\"\n",
    "#prompt = \"Who is Michio Kaku, and what does he discuss in his book Hyperspace?\"\n",
    "\n",
    "\n",
    "use_transformers_pipeline = False\n",
    "\n",
    "if use_transformers_pipeline:\n",
    "    import transformers\n",
    "\n",
    "    tokenizer = AutoTokenizer.from_pretrained(hf_model_repo,  trust_remote_code=True)\n",
    "    pipeline = transformers.pipeline(\n",
    "        \"text-generation\", #\"question-answering\",\n",
    "        model=hf_model_repo,\n",
    "        trust_remote_code=True\n",
    "    )\n",
    "\n",
    "    sequences = pipeline(\n",
    "        prompt,\n",
    "        temperature=0.6,\n",
    "        eos_token_id=tokenizer.eos_token_id,\n",
    "        max_length=200,\n",
    "    )\n",
    "\n",
    "    for seq in sequences:\n",
    "        print(seq['generated_text'])\n",
    "\n"
   ]
  },
  {
   "cell_type": "code",
   "execution_count": 4,
   "id": "cb55a996-6995-43df-a9b5-8e38a46422eb",
   "metadata": {},
   "outputs": [
    {
     "data": {
      "text/plain": [
       "LlamaForCausalLM(\n",
       "  (model): LlamaModel(\n",
       "    (embed_tokens): Embedding(32000, 4096)\n",
       "    (layers): ModuleList(\n",
       "      (0-31): 32 x LlamaDecoderLayer(\n",
       "        (self_attn): LlamaAttention(\n",
       "          (q_proj): Linear4bit(in_features=4096, out_features=4096, bias=False)\n",
       "          (k_proj): Linear4bit(in_features=4096, out_features=4096, bias=False)\n",
       "          (v_proj): Linear4bit(in_features=4096, out_features=4096, bias=False)\n",
       "          (o_proj): Linear4bit(in_features=4096, out_features=4096, bias=False)\n",
       "          (rotary_emb): LlamaRotaryEmbedding()\n",
       "        )\n",
       "        (mlp): LlamaMLP(\n",
       "          (gate_proj): Linear4bit(in_features=4096, out_features=11008, bias=False)\n",
       "          (up_proj): Linear4bit(in_features=4096, out_features=11008, bias=False)\n",
       "          (down_proj): Linear4bit(in_features=11008, out_features=4096, bias=False)\n",
       "          (act_fn): SiLU()\n",
       "        )\n",
       "        (input_layernorm): LlamaRMSNorm()\n",
       "        (post_attention_layernorm): LlamaRMSNorm()\n",
       "      )\n",
       "    )\n",
       "    (norm): LlamaRMSNorm()\n",
       "  )\n",
       "  (lm_head): Linear(in_features=4096, out_features=32000, bias=False)\n",
       ")"
      ]
     },
     "execution_count": 4,
     "metadata": {},
     "output_type": "execute_result"
    }
   ],
   "source": [
    "model"
   ]
  },
  {
   "cell_type": "code",
   "execution_count": 59,
   "id": "cbc257b2-e43f-4a42-8871-2d1e52d7a4c3",
   "metadata": {},
   "outputs": [
    {
     "name": "stdout",
     "output_type": "stream",
     "text": [
      "Generated response:\n",
      "Question: Who wrote down the field equation for electricity and magnetism.\n"
     ]
    }
   ],
   "source": [
    "# prompt = \"Question: When was the concept of a nuclear-fired rocket briefly resurrected?\"\n",
    "# prompt =  \"Question: What is the difference between a Type 1 Type 2 and Type 3 civilizations\"\n",
    "# prompt = \"Question: What is the difference between a Type I Type II and Type III civilizations?\"\n",
    "\n",
    "# prompt = \"Question: What is the current rate of production of antimatter?\"\n",
    "# is between one-billionth to ten-billionths of a gram per year.\n",
    "\n",
    "\n",
    "# Type 0 civilization will reach Type I status.\n",
    "\n",
    "# prompt = \"Question: In which TV series did the concept of wormhole appear?\"\n",
    "\n",
    "# prompt = \"Question: What happened to the Kaluza-Klein idea After the 1930s?\"\n",
    "\n",
    "\n",
    "# prompt = \"Question: How did mystics contribute to the understanding of hyperspace?\"\n",
    "\n",
    "# prompt = \"Question: What is the fundamental problem faced by physicists in unifying Einstein's theory of relativity with quantum field theory?\"\n",
    "\n",
    "# prompt = \"Question: How was the Kaluza-Klein theory resurrected?\"\n",
    "\n",
    "\n",
    "# prompt = \"Question: what is 'sticky, fat fingers' nanobots?\"\n",
    "\n",
    "# prompt = \"Question: What are the dangers awaiting us in outer space?\"\n",
    "\n",
    "# prompt = \"Question: What part of the brain is associated with body sensations and social emotions?\"\n",
    "\n",
    "\n",
    "# prompt = \"Question: Explain about the insula part of the brain which is associated with body sensations and social emotions?\"\n",
    "\n",
    "# prompt = \"Question: What is the main point that Coleman is trying to convey through his humorous writing style?\"\n",
    "\n",
    "# prompt = \"Question: When did Einstein write a paper that \\\"proved\\\" black holes could never form?\"\n",
    "\n",
    "# prompt = \"Question: What is the alternative name for Einstein-Rosen Bridge?\"\n",
    "\n",
    "# prompt = \"Question: What does the text talk about?\"\n",
    "\n",
    "# prompt = \"Question: What are the problems of the Standard Model?\"\n",
    "\n",
    "# prompt = \"What are the various particles and forces within the Standard Model?\"\n",
    "\n",
    "# prompt = \"How do the soap bubbles in the analogy represent universes?\"\n",
    "\n",
    "# prompt = \"Question: What is the analogy of the bubbles?\"\n",
    "\n",
    "# prompt = \"Question: What is meant by the UNIFICATION IN TEN DIMENSIONS?\"\n",
    "\n",
    "#prompt = \"Question: What is the superstring theory according to the text?\"\n",
    "\n",
    "# prompt = \"Question: What is the Standard Model compared to according to the text?\"\n",
    "\n",
    "# prompt = \"QUESTION: Can time travel create problems in the timeline?\"\n",
    "\n",
    "# prompt = \"Question: Who is the director of GlobalSecurity.org\"\n",
    "\n",
    "# prompt = \"What is the grandfather paradox?\"\n",
    "\n",
    "# prompt = \"Question: How do the apes treat humans in the advanced civilization?\"\n",
    "\n",
    "# prompt = \"Question: What are the equations of Einstein mentiond in the text\"\n",
    "\n",
    "prompt = \"Question: Who wrote down the field equation for electricity and magnetism.\"\n",
    "\n",
    "\n",
    "\n",
    "# Generate response\n",
    "input_ids = tokenizer(prompt, return_tensors=\"pt\", truncation=True).input_ids\n",
    "outputs = model.generate(input_ids=input_ids,\n",
    "                         max_new_tokens=200,\n",
    "                         temperature=0.6)\n",
    "\n",
    "# print(\"outputs: \", outputs)\n",
    "\n",
    "result = tokenizer.batch_decode(outputs, skip_special_tokens=True)[0]\n",
    "\n",
    "# Print the result\n",
    "print(f\"Generated response:\\n{result}\")\n"
   ]
  },
  {
   "cell_type": "code",
   "execution_count": null,
   "id": "b135174d-b8c0-413f-8ef4-d22cef360d0f",
   "metadata": {},
   "outputs": [],
   "source": []
  },
  {
   "cell_type": "code",
   "execution_count": null,
   "id": "783723d5-dce0-45b8-9a21-f5a8a3e73755",
   "metadata": {},
   "outputs": [],
   "source": []
  },
  {
   "cell_type": "code",
   "execution_count": 6,
   "id": "be6db338-1a51-4000-9a88-dfc624942e62",
   "metadata": {},
   "outputs": [],
   "source": [
    "# free VRAM\n",
    "del model\n",
    "import gc\n",
    "gc.collect()\n",
    "\n",
    "torch.cuda.empty_cache()\n"
   ]
  },
  {
   "cell_type": "code",
   "execution_count": null,
   "id": "dd0cb7a3-394a-4ba9-a7c2-30165c72f449",
   "metadata": {},
   "outputs": [],
   "source": []
  }
 ],
 "metadata": {
  "kernelspec": {
   "display_name": "Python 3 (ipykernel)",
   "language": "python",
   "name": "python3"
  },
  "language_info": {
   "codemirror_mode": {
    "name": "ipython",
    "version": 3
   },
   "file_extension": ".py",
   "mimetype": "text/x-python",
   "name": "python",
   "nbconvert_exporter": "python",
   "pygments_lexer": "ipython3",
   "version": "3.10.12"
  }
 },
 "nbformat": 4,
 "nbformat_minor": 5
}
