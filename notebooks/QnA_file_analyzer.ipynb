{
 "cells": [
  {
   "cell_type": "code",
   "execution_count": 1,
   "id": "b025348e-44ca-48fa-9a83-e334fe23f28c",
   "metadata": {},
   "outputs": [],
   "source": [
    "import pandas as pd"
   ]
  },
  {
   "cell_type": "code",
   "execution_count": null,
   "id": "f4ac13e4-e398-4799-89e3-74a2e355c18f",
   "metadata": {},
   "outputs": [],
   "source": []
  },
  {
   "cell_type": "code",
   "execution_count": 3,
   "id": "1731757a-59d5-4494-b534-061947302c2f",
   "metadata": {},
   "outputs": [],
   "source": [
    "all_responsez_V49 = \"data/all_responsez_V49.txt\"\n",
    "with open(all_responsez_V49, 'r') as file:\n",
    "    data = file.read()"
   ]
  },
  {
   "cell_type": "code",
   "execution_count": 4,
   "id": "5a7f70e5-7b9e-4777-b78b-0fa63dd82085",
   "metadata": {},
   "outputs": [
    {
     "data": {
      "text/plain": [
       "1345079"
      ]
     },
     "execution_count": 4,
     "metadata": {},
     "output_type": "execute_result"
    }
   ],
   "source": []
  },
  {
   "cell_type": "code",
   "execution_count": 14,
   "id": "cb8315be-3cb0-4dbd-aeb5-5dcf724ca57c",
   "metadata": {},
   "outputs": [],
   "source": [
    "lines = [line.strip() for line in data.split('\\n') if line.strip()]"
   ]
  },
  {
   "cell_type": "code",
   "execution_count": 15,
   "id": "ddeefbd4-5934-4887-985b-4bed4d45378e",
   "metadata": {},
   "outputs": [
    {
     "data": {
      "text/plain": [
       "11695"
      ]
     },
     "execution_count": 15,
     "metadata": {},
     "output_type": "execute_result"
    }
   ],
   "source": [
    "len(lines)"
   ]
  },
  {
   "cell_type": "code",
   "execution_count": 74,
   "id": "f2ada5fd-cbb1-4552-90df-538bdd3d2e00",
   "metadata": {},
   "outputs": [
    {
     "ename": "IndexError",
     "evalue": "list index out of range",
     "output_type": "error",
     "traceback": [
      "\u001b[0;31m---------------------------------------------------------------------------\u001b[0m",
      "\u001b[0;31mIndexError\u001b[0m                                Traceback (most recent call last)",
      "\u001b[0;32m/tmp/ipykernel_382135/1830996060.py\u001b[0m in \u001b[0;36m<module>\u001b[0;34m\u001b[0m\n\u001b[1;32m     10\u001b[0m         \u001b[0;32mwhile\u001b[0m \u001b[0magg_ans\u001b[0m\u001b[0;34m:\u001b[0m\u001b[0;34m\u001b[0m\u001b[0;34m\u001b[0m\u001b[0m\n\u001b[1;32m     11\u001b[0m             \u001b[0mlines_counter\u001b[0m \u001b[0;34m+=\u001b[0m \u001b[0;36m1\u001b[0m\u001b[0;34m\u001b[0m\u001b[0;34m\u001b[0m\u001b[0m\n\u001b[0;32m---> 12\u001b[0;31m             \u001b[0;32mif\u001b[0m \u001b[0mlines\u001b[0m\u001b[0;34m[\u001b[0m\u001b[0mlines_counter\u001b[0m\u001b[0;34m]\u001b[0m\u001b[0;34m.\u001b[0m\u001b[0mendswith\u001b[0m\u001b[0;34m(\u001b[0m\u001b[0;34m'?'\u001b[0m\u001b[0;34m)\u001b[0m\u001b[0;34m:\u001b[0m\u001b[0;34m\u001b[0m\u001b[0;34m\u001b[0m\u001b[0m\n\u001b[0m\u001b[1;32m     13\u001b[0m                 \u001b[0magg_ans\u001b[0m \u001b[0;34m=\u001b[0m \u001b[0;32mFalse\u001b[0m\u001b[0;34m\u001b[0m\u001b[0;34m\u001b[0m\u001b[0m\n\u001b[1;32m     14\u001b[0m                 \u001b[0;32mif\u001b[0m \u001b[0manswer_str\u001b[0m \u001b[0;34m!=\u001b[0m \u001b[0;34m''\u001b[0m\u001b[0;34m:\u001b[0m\u001b[0;34m\u001b[0m\u001b[0;34m\u001b[0m\u001b[0m\n",
      "\u001b[0;31mIndexError\u001b[0m: list index out of range"
     ]
    }
   ],
   "source": [
    "qa_pairs = {}\n",
    "\n",
    "lines_counter = 0\n",
    "while True:\n",
    "    question = lines[lines_counter]\n",
    "    answer_str = \"\"\n",
    "    if question.endswith('?'):\n",
    "        agg_ans = True\n",
    "        # aggregating answer string (possible multiple lines)\n",
    "        while agg_ans:\n",
    "            lines_counter += 1\n",
    "            if lines[lines_counter].endswith('?'):\n",
    "                agg_ans = False\n",
    "                if answer_str != '':\n",
    "                    qa_pairs[question] = answer_str\n",
    "            else:\n",
    "                answer_str += lines[lines_counter]\n",
    "    else:\n",
    "        lines_counter += 1\n",
    "        "
   ]
  },
  {
   "cell_type": "code",
   "execution_count": 75,
   "id": "b4f20d60-0cbc-4abc-a013-748379b4b817",
   "metadata": {},
   "outputs": [
    {
     "data": {
      "text/plain": [
       "(11695, 5002)"
      ]
     },
     "execution_count": 75,
     "metadata": {},
     "output_type": "execute_result"
    }
   ],
   "source": [
    "lines_counter, len(qa_pairs)"
   ]
  },
  {
   "cell_type": "code",
   "execution_count": 76,
   "id": "0e99b406-a22f-4774-9fb6-ff1daa3a55da",
   "metadata": {},
   "outputs": [
    {
     "data": {
      "text/plain": [
       "5002"
      ]
     },
     "execution_count": 76,
     "metadata": {},
     "output_type": "execute_result"
    }
   ],
   "source": [
    "qa_pairs_list = list(zip(qa_pairs.keys(), qa_pairs.values()))\n",
    "len(qa_pairs_list)"
   ]
  },
  {
   "cell_type": "code",
   "execution_count": 82,
   "id": "46f5abb9-53d7-466d-bb02-5eeafe44eaf9",
   "metadata": {},
   "outputs": [],
   "source": [
    "for i, q in enumerate(qa_pairs.keys()):\n",
    "    if q.startswith(\"3. How do the gateways\"):\n",
    "        print(i)\n",
    "    "
   ]
  },
  {
   "cell_type": "code",
   "execution_count": 78,
   "id": "cc7f0330-9f28-4058-9f88-1ab05eee3bdc",
   "metadata": {},
   "outputs": [
    {
     "data": {
      "text/plain": [
       "('Question 2: How does the ten-dimensional theory simplify the laws of nature?',\n",
       " 'Answer 2: According to the text, the ten-dimensional theory promises to vastly simplify the laws of nature and dethrone the familiar world of three dimensions.')"
      ]
     },
     "execution_count": 78,
     "metadata": {},
     "output_type": "execute_result"
    }
   ],
   "source": [
    "qa_pairs_list[2999]"
   ]
  },
  {
   "cell_type": "code",
   "execution_count": 79,
   "id": "e3e7181b-ae94-4594-8722-540b11839b7c",
   "metadata": {},
   "outputs": [
    {
     "data": {
      "text/plain": [
       "('Question 2: What is the six-dimensional universe believed to be?',\n",
       " 'Answer 2: The six-dimensional universe is believed to be a dwarf twin of our world, a companion universe that has curled up into a small six-dimensional ball that is too small to be observed.')"
      ]
     },
     "execution_count": 79,
     "metadata": {},
     "output_type": "execute_result"
    }
   ],
   "source": [
    "qa_pairs_list[984]"
   ]
  },
  {
   "cell_type": "code",
   "execution_count": 80,
   "id": "a8ac5897-56f2-4880-b9e8-6736da19f4d3",
   "metadata": {},
   "outputs": [
    {
     "data": {
      "text/plain": [
       "('Question 3: What is the fate of the universe according to the theory?',\n",
       " 'Answer 3: According to the theory, the ultimate death of the universe will come in the form of the Big Crunch.')"
      ]
     },
     "execution_count": 80,
     "metadata": {},
     "output_type": "execute_result"
    }
   ],
   "source": [
    "qa_pairs_list[985]"
   ]
  },
  {
   "cell_type": "code",
   "execution_count": 42,
   "id": "1b2db08f-7f4e-411a-9d3f-8f426c22d377",
   "metadata": {},
   "outputs": [
    {
     "data": {
      "text/plain": [
       "(('Questions: ', 5479), ('answers:', 6216))"
      ]
     },
     "execution_count": 42,
     "metadata": {},
     "output_type": "execute_result"
    }
   ],
   "source": [
    "(\"Questions: \", len(questions)), (\"answers:\", len(answers))"
   ]
  },
  {
   "cell_type": "code",
   "execution_count": 95,
   "id": "71c749bb-b995-4bbb-9663-b4f62fb0049e",
   "metadata": {},
   "outputs": [
    {
     "data": {
      "text/plain": [
       "(5002, 5002)"
      ]
     },
     "execution_count": 95,
     "metadata": {},
     "output_type": "execute_result"
    }
   ],
   "source": [
    "len(qa_dict['Question']), len(qa_dict['Answer'])"
   ]
  },
  {
   "cell_type": "code",
   "execution_count": null,
   "id": "a4b8a76a-d7f2-4c2b-8e6b-6eae56309a35",
   "metadata": {},
   "outputs": [],
   "source": []
  },
  {
   "cell_type": "code",
   "execution_count": 89,
   "id": "935fed5e-8571-45e3-b1b9-0be557a3d6d3",
   "metadata": {},
   "outputs": [],
   "source": [
    "qa_dict = {'Question': list(qa_pairs.keys()), 'Answer': list(qa_pairs.values())}\n",
    "\n",
    "qa_dict_df = pd.DataFrame(qa_dict)"
   ]
  },
  {
   "cell_type": "code",
   "execution_count": 100,
   "id": "c3ad1098-71c1-475b-b8a1-d315f6b1eb12",
   "metadata": {},
   "outputs": [
    {
     "data": {
      "text/plain": [
       "('Q: Why did females choose males with large brains?',\n",
       " 'A: B. To outwit other males and become leaders of the tribe.')"
      ]
     },
     "execution_count": 100,
     "metadata": {},
     "output_type": "execute_result"
    }
   ],
   "source": [
    "qa_dict['Question'][-1], qa_dict['Answer'][-1]"
   ]
  },
  {
   "cell_type": "code",
   "execution_count": 101,
   "id": "cd5e8745-f672-4316-a96e-ab276688a76d",
   "metadata": {},
   "outputs": [
    {
     "data": {
      "text/plain": [
       "(5002, 2)"
      ]
     },
     "execution_count": 101,
     "metadata": {},
     "output_type": "execute_result"
    }
   ],
   "source": [
    "qa_dict_df.shape"
   ]
  },
  {
   "cell_type": "code",
   "execution_count": 102,
   "id": "90b42921-368c-481f-bd31-c3696925676c",
   "metadata": {},
   "outputs": [
    {
     "data": {
      "text/html": [
       "<div>\n",
       "<style scoped>\n",
       "    .dataframe tbody tr th:only-of-type {\n",
       "        vertical-align: middle;\n",
       "    }\n",
       "\n",
       "    .dataframe tbody tr th {\n",
       "        vertical-align: top;\n",
       "    }\n",
       "\n",
       "    .dataframe thead th {\n",
       "        text-align: right;\n",
       "    }\n",
       "</style>\n",
       "<table border=\"1\" class=\"dataframe\">\n",
       "  <thead>\n",
       "    <tr style=\"text-align: right;\">\n",
       "      <th></th>\n",
       "      <th>Question</th>\n",
       "      <th>Answer</th>\n",
       "    </tr>\n",
       "  </thead>\n",
       "  <tbody>\n",
       "    <tr>\n",
       "      <th>0</th>\n",
       "      <td>Question 1: What is the title of the book bein...</td>\n",
       "      <td>Answer 1: The title of the book is \"Mind over ...</td>\n",
       "    </tr>\n",
       "    <tr>\n",
       "      <th>1</th>\n",
       "      <td>Question 2: What are some of the future techno...</td>\n",
       "      <td>Answer 2: Some of the future technologies ment...</td>\n",
       "    </tr>\n",
       "    <tr>\n",
       "      <th>2</th>\n",
       "      <td>Question 3: Who did the author thank for their...</td>\n",
       "      <td>Answer 3: The author thanked their editors Rog...</td>\n",
       "    </tr>\n",
       "    <tr>\n",
       "      <th>3</th>\n",
       "      <td>Question 4: What is the overall theme of the b...</td>\n",
       "      <td>Answer 4: The overall theme of the book is the...</td>\n",
       "    </tr>\n",
       "    <tr>\n",
       "      <th>4</th>\n",
       "      <td>Question: Who did the author encourage to take...</td>\n",
       "      <td>Answer: The author encouraged \"more than three...</td>\n",
       "    </tr>\n",
       "  </tbody>\n",
       "</table>\n",
       "</div>"
      ],
      "text/plain": [
       "                                            Question  \\\n",
       "0  Question 1: What is the title of the book bein...   \n",
       "1  Question 2: What are some of the future techno...   \n",
       "2  Question 3: Who did the author thank for their...   \n",
       "3  Question 4: What is the overall theme of the b...   \n",
       "4  Question: Who did the author encourage to take...   \n",
       "\n",
       "                                              Answer  \n",
       "0  Answer 1: The title of the book is \"Mind over ...  \n",
       "1  Answer 2: Some of the future technologies ment...  \n",
       "2  Answer 3: The author thanked their editors Rog...  \n",
       "3  Answer 4: The overall theme of the book is the...  \n",
       "4  Answer: The author encouraged \"more than three...  "
      ]
     },
     "execution_count": 102,
     "metadata": {},
     "output_type": "execute_result"
    }
   ],
   "source": [
    "qa_dict_df.head()"
   ]
  },
  {
   "cell_type": "code",
   "execution_count": 104,
   "id": "869568ad-dec9-45ec-adb7-51dd829e6cfa",
   "metadata": {},
   "outputs": [],
   "source": [
    "qa_dict_df.to_csv(\"data/mk_physics_qna_train.csv\", index=False)"
   ]
  },
  {
   "cell_type": "code",
   "execution_count": 31,
   "id": "9a313d3d-a2f4-45b3-bcbf-216519089bd8",
   "metadata": {},
   "outputs": [
    {
     "data": {
      "text/plain": [
       "(1814, 5848)"
      ]
     },
     "execution_count": 31,
     "metadata": {},
     "output_type": "execute_result"
    }
   ],
   "source": [
    "qs_counter, len(questions)"
   ]
  },
  {
   "cell_type": "code",
   "execution_count": 94,
   "id": "a0423bbb-21e2-4f18-8a6d-609bb3134555",
   "metadata": {},
   "outputs": [
    {
     "data": {
      "text/plain": [
       "(5002, 2)"
      ]
     },
     "execution_count": 94,
     "metadata": {},
     "output_type": "execute_result"
    }
   ],
   "source": []
  },
  {
   "cell_type": "code",
   "execution_count": 106,
   "id": "b188fc8a-214c-40f0-b7e9-fd9252ca05ae",
   "metadata": {},
   "outputs": [
    {
     "data": {
      "text/plain": [
       "0"
      ]
     },
     "execution_count": 106,
     "metadata": {},
     "output_type": "execute_result"
    }
   ],
   "source": [
    "2%2"
   ]
  },
  {
   "cell_type": "code",
   "execution_count": null,
   "id": "eff60169-77d1-4a44-b7dd-e65922d6a8fa",
   "metadata": {},
   "outputs": [],
   "source": []
  }
 ],
 "metadata": {
  "kernelspec": {
   "display_name": "Python 3 (ipykernel)",
   "language": "python",
   "name": "python3"
  },
  "language_info": {
   "codemirror_mode": {
    "name": "ipython",
    "version": 3
   },
   "file_extension": ".py",
   "mimetype": "text/x-python",
   "name": "python",
   "nbconvert_exporter": "python",
   "pygments_lexer": "ipython3",
   "version": "3.10.12"
  }
 },
 "nbformat": 4,
 "nbformat_minor": 5
}
