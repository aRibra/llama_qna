{
 "cells": [
  {
   "cell_type": "code",
   "execution_count": 1,
   "id": "4f33b113-8209-4d7d-969b-46f76d56770a",
   "metadata": {},
   "outputs": [],
   "source": [
    "# ! pip install bert_score"
   ]
  },
  {
   "cell_type": "code",
   "execution_count": 1,
   "id": "5b4783b3-714b-4e3b-8be5-13de0558ea49",
   "metadata": {},
   "outputs": [],
   "source": [
    "import pandas as pd\n",
    "import numpy as np\n",
    "import evaluate"
   ]
  },
  {
   "cell_type": "code",
   "execution_count": 2,
   "id": "91d1d143-4cb5-4622-80a1-11ee390ef564",
   "metadata": {},
   "outputs": [],
   "source": [
    "# from transformers import LlamaModel, LlamaConfig\n",
    "# from accelerate import init_empty_weights\n",
    "# config = LlamaConfig()\n",
    "# with init_empty_weights():\n",
    "#     model = LlamaModel(config)"
   ]
  },
  {
   "cell_type": "code",
   "execution_count": 3,
   "id": "54603159-df10-4f73-8cdb-318f5694e808",
   "metadata": {},
   "outputs": [
    {
     "name": "stderr",
     "output_type": "stream",
     "text": [
      "/home/aribra/.local/lib/python3.10/site-packages/huggingface_hub/file_download.py:1132: FutureWarning: `resume_download` is deprecated and will be removed in version 1.0.0. Downloads always resume when possible. If you want to force a new download, use `force_download=True`.\n",
      "  warnings.warn(\n"
     ]
    },
    {
     "data": {
      "application/vnd.jupyter.widget-view+json": {
       "model_id": "75a89e93c903470ca2ffc8a59ad648b1",
       "version_major": 2,
       "version_minor": 0
      },
      "text/plain": [
       "Loading checkpoint shards:   0%|          | 0/3 [00:00<?, ?it/s]"
      ]
     },
     "metadata": {},
     "output_type": "display_data"
    },
    {
     "name": "stderr",
     "output_type": "stream",
     "text": [
      "/home/aribra/.local/lib/python3.10/site-packages/huggingface_hub/file_download.py:1132: FutureWarning: `resume_download` is deprecated and will be removed in version 1.0.0. Downloads always resume when possible. If you want to force a new download, use `force_download=True`.\n",
      "  warnings.warn(\n",
      "WARNING:root:Some parameters are on the meta device device because they were offloaded to the cpu and disk.\n"
     ]
    }
   ],
   "source": [
    "import torch\n",
    "from transformers import BitsAndBytesConfig\n",
    "from transformers import AutoModelForCausalLM, AutoTokenizer\n",
    "\n",
    "\n",
    "# Get the type\n",
    "compute_dtype = getattr(torch, \"float16\")\n",
    "\n",
    "# BitsAndBytesConfig int-4 config\n",
    "bnb_config = BitsAndBytesConfig(\n",
    "    load_in_4bit=False,\n",
    "    bnb_4bit_use_double_quant=False,\n",
    "    bnb_4bit_quant_type=\"nf4\",\n",
    "    bnb_4bit_compute_dtype=compute_dtype\n",
    ")\n",
    "\n",
    "\n",
    "# hf_model_repo = \"meta-llama/Llama-2-7b-chat-hf\"\n",
    "\n",
    "hf_model_repo = \"ilufy/llama2-7b-coaxnn-paper-qna-fuinetuned-merged-270\"\n",
    "\n",
    "\n",
    "# Get the tokenizer\n",
    "tokenizer = AutoTokenizer.from_pretrained(hf_model_repo)\n",
    "\n",
    "# Load the model\n",
    "model = AutoModelForCausalLM.from_pretrained(hf_model_repo,\n",
    "                                             quantization_config=bnb_config,\n",
    "                                             device_map=\"auto\")\n",
    "\n",
    "use_transformers_pipeline = False\n",
    "\n",
    "if use_transformers_pipeline:\n",
    "    import transformers\n",
    "\n",
    "    tokenizer = AutoTokenizer.from_pretrained(hf_model_repo,  trust_remote_code=True)\n",
    "    pipeline = transformers.pipeline(\n",
    "        \"text-generation\", #\"question-answering\",\n",
    "        model=hf_model_repo,\n",
    "        trust_remote_code=True\n",
    "    )\n",
    "\n",
    "    sequences = pipeline(\n",
    "        prompt,\n",
    "        temperature=0.6,\n",
    "        eos_token_id=tokenizer.eos_token_id,\n",
    "        max_length=200,\n",
    "    )\n",
    "\n",
    "    for seq in sequences:\n",
    "        print(seq['generated_text'])\n",
    "\n"
   ]
  },
  {
   "cell_type": "code",
   "execution_count": 4,
   "id": "cb55a996-6995-43df-a9b5-8e38a46422eb",
   "metadata": {},
   "outputs": [
    {
     "data": {
      "text/plain": [
       "LlamaForCausalLM(\n",
       "  (model): LlamaModel(\n",
       "    (embed_tokens): Embedding(32000, 4096)\n",
       "    (layers): ModuleList(\n",
       "      (0-31): 32 x LlamaDecoderLayer(\n",
       "        (self_attn): LlamaAttention(\n",
       "          (q_proj): Linear(in_features=4096, out_features=4096, bias=False)\n",
       "          (k_proj): Linear(in_features=4096, out_features=4096, bias=False)\n",
       "          (v_proj): Linear(in_features=4096, out_features=4096, bias=False)\n",
       "          (o_proj): Linear(in_features=4096, out_features=4096, bias=False)\n",
       "          (rotary_emb): LlamaRotaryEmbedding()\n",
       "        )\n",
       "        (mlp): LlamaMLP(\n",
       "          (gate_proj): Linear(in_features=4096, out_features=11008, bias=False)\n",
       "          (up_proj): Linear(in_features=4096, out_features=11008, bias=False)\n",
       "          (down_proj): Linear(in_features=11008, out_features=4096, bias=False)\n",
       "          (act_fn): SiLU()\n",
       "        )\n",
       "        (input_layernorm): LlamaRMSNorm()\n",
       "        (post_attention_layernorm): LlamaRMSNorm()\n",
       "      )\n",
       "    )\n",
       "    (norm): LlamaRMSNorm()\n",
       "  )\n",
       "  (lm_head): Linear(in_features=4096, out_features=32000, bias=False)\n",
       ")"
      ]
     },
     "execution_count": 4,
     "metadata": {},
     "output_type": "execute_result"
    }
   ],
   "source": [
    "model"
   ]
  },
  {
   "cell_type": "code",
   "execution_count": 5,
   "id": "3fc7decd-e1c6-43c6-93af-b62e0899fa3a",
   "metadata": {},
   "outputs": [],
   "source": [
    "df = pd.read_csv(\"data/coaxnn_paper_qna_train.csv\")[:256]\n",
    "\n",
    "df['text_question'] = 'Question:\\n' + df['Question']\n",
    "df['text_answer'] = 'Answer:\\n' + df['Answer']"
   ]
  },
  {
   "cell_type": "code",
   "execution_count": 6,
   "id": "e9fdf134-ee9b-4e8e-a325-d8f61d91ff4a",
   "metadata": {},
   "outputs": [],
   "source": [
    "eval_metric = evaluate.load(\"rouge\")"
   ]
  },
  {
   "cell_type": "code",
   "execution_count": null,
   "id": "77c32a1c-1d3f-43de-941b-4c4ac1faa8f6",
   "metadata": {},
   "outputs": [
    {
     "name": "stderr",
     "output_type": "stream",
     "text": [
      "Asking to truncate to max_length but no maximum length is provided and the model has no predefined maximum length. Default to no truncation.\n",
      "/home/aribra/.local/lib/python3.10/site-packages/transformers/generation/utils.py:1636: UserWarning: You are calling .generate() with the `input_ids` being on a device type different than your model's device. `input_ids` is on cpu, whereas the model is on cuda. You may experience unexpected behaviors or slower generation. Please make sure that you have put `input_ids` to the correct device by calling for example input_ids = input_ids.to('cuda') before running `.generate()`.\n",
      "  warnings.warn(\n"
     ]
    }
   ],
   "source": [
    "# prompt = \"How much speedup does CoAxNN have on CIFAR dataset?\"\n",
    "\n",
    "# prompt = \"What is the speedup achieved by CoAxNN on different models?\"\n",
    "\n",
    "# prompt = \"What is the advantage of using CoAxNN?\"\n",
    "\n",
    "# prompt = \"What is search space when the number of stages is �?\"\n",
    "\n",
    "# prompt = \"What is the output of Algorithm 2 in CoAxNN?\"\n",
    "\n",
    "# prompt = \"Fig. 1 shows the optimization effect of the ResNet-56 using different configuration parameters under the specified requirements of accuracy on the CIFAR-10 dataset. What does the triples (𝑥, 𝑦, 𝑧) represent?\"\n",
    "\n",
    "rand_idx = np.random.randint(len(df))\n",
    "\n",
    "prompt = df['text_question'].iloc[rand_idx]\n",
    "\n",
    "references = [df['text_answer'].iloc[rand_idx]]\n",
    "predictions = []\n",
    "\n",
    "# prompt = \"Question:\\n\" + prompt\n",
    "\n",
    "# Generate response\n",
    "input_ids = tokenizer(prompt, return_tensors=\"pt\", truncation=True).input_ids\n",
    "outputs = model.generate(input_ids=input_ids,\n",
    "                         max_new_tokens=200,\n",
    "                         temperature=0.6)\n",
    "\n",
    "gen_tokens = outputs[:, input_ids.shape[1]:]\n",
    "\n",
    "result = tokenizer.batch_decode(gen_tokens, skip_special_tokens=True)[0]\n",
    "\n",
    "predictions = [result]\n",
    "\n",
    "metric = eval_metric.compute(predictions = predictions, references = references)\n",
    "# metric = eval_metric.compute(lang='en', predictions = predictions, references = references)\n",
    "\n",
    "\n",
    "# Print the result\n",
    "\n",
    "print(f\"[Prompt] \\n{prompt}\")\n",
    "print()\n",
    "print(f\"[GT] \\n{references[0]}\")\n",
    "print()\n",
    "print(f\"Generated response:\\n{result}\")\n",
    "\n",
    "print(f\"metric: {metric}\")\n"
   ]
  },
  {
   "cell_type": "code",
   "execution_count": null,
   "id": "f838dfbd-1e4d-40b2-ae62-4d0f82d712c2",
   "metadata": {},
   "outputs": [],
   "source": []
  },
  {
   "cell_type": "code",
   "execution_count": null,
   "id": "b135174d-b8c0-413f-8ef4-d22cef360d0f",
   "metadata": {},
   "outputs": [],
   "source": []
  },
  {
   "cell_type": "code",
   "execution_count": null,
   "id": "783723d5-dce0-45b8-9a21-f5a8a3e73755",
   "metadata": {},
   "outputs": [],
   "source": []
  },
  {
   "cell_type": "code",
   "execution_count": 13,
   "id": "be6db338-1a51-4000-9a88-dfc624942e62",
   "metadata": {},
   "outputs": [],
   "source": [
    "# free VRAM\n",
    "del model\n",
    "import gc\n",
    "gc.collect()\n",
    "\n",
    "torch.cuda.empty_cache()\n"
   ]
  },
  {
   "cell_type": "code",
   "execution_count": null,
   "id": "dd0cb7a3-394a-4ba9-a7c2-30165c72f449",
   "metadata": {},
   "outputs": [],
   "source": []
  }
 ],
 "metadata": {
  "kernelspec": {
   "display_name": "Python 3 (ipykernel)",
   "language": "python",
   "name": "python3"
  },
  "language_info": {
   "codemirror_mode": {
    "name": "ipython",
    "version": 3
   },
   "file_extension": ".py",
   "mimetype": "text/x-python",
   "name": "python",
   "nbconvert_exporter": "python",
   "pygments_lexer": "ipython3",
   "version": "3.10.12"
  }
 },
 "nbformat": 4,
 "nbformat_minor": 5
}
